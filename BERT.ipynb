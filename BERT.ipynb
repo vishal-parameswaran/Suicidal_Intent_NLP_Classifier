{
 "cells": [
  {
   "cell_type": "code",
   "execution_count": 1,
   "id": "2d106514-ba36-4aa7-9e96-e83531e0e356",
   "metadata": {},
   "outputs": [],
   "source": [
    "import pandas as pd\n",
    "import numpy as np\n",
    "\n",
    "import warnings\n",
    "warnings.filterwarnings(\"ignore\")"
   ]
  },
  {
   "cell_type": "code",
   "execution_count": 2,
   "id": "52a2471c-b29b-4a35-bb6e-6d34dab057ab",
   "metadata": {},
   "outputs": [
    {
     "data": {
      "text/html": [
       "<div>\n",
       "<style scoped>\n",
       "    .dataframe tbody tr th:only-of-type {\n",
       "        vertical-align: middle;\n",
       "    }\n",
       "\n",
       "    .dataframe tbody tr th {\n",
       "        vertical-align: top;\n",
       "    }\n",
       "\n",
       "    .dataframe thead th {\n",
       "        text-align: right;\n",
       "    }\n",
       "</style>\n",
       "<table border=\"1\" class=\"dataframe\">\n",
       "  <thead>\n",
       "    <tr style=\"text-align: right;\">\n",
       "      <th></th>\n",
       "      <th>target</th>\n",
       "      <th>text</th>\n",
       "    </tr>\n",
       "  </thead>\n",
       "  <tbody>\n",
       "    <tr>\n",
       "      <th>0</th>\n",
       "      <td>1</td>\n",
       "      <td>@switchfoot http://twitpic.com/2y1zl - Awww, t...</td>\n",
       "    </tr>\n",
       "    <tr>\n",
       "      <th>1</th>\n",
       "      <td>1</td>\n",
       "      <td>is upset that he can't update his Facebook by ...</td>\n",
       "    </tr>\n",
       "    <tr>\n",
       "      <th>2</th>\n",
       "      <td>1</td>\n",
       "      <td>@Kenichan I dived many times for the ball. Man...</td>\n",
       "    </tr>\n",
       "    <tr>\n",
       "      <th>3</th>\n",
       "      <td>1</td>\n",
       "      <td>my whole body feels itchy and like its on fire</td>\n",
       "    </tr>\n",
       "    <tr>\n",
       "      <th>4</th>\n",
       "      <td>1</td>\n",
       "      <td>@nationwideclass no, it's not behaving at all....</td>\n",
       "    </tr>\n",
       "  </tbody>\n",
       "</table>\n",
       "</div>"
      ],
      "text/plain": [
       "   target                                               text\n",
       "0       1  @switchfoot http://twitpic.com/2y1zl - Awww, t...\n",
       "1       1  is upset that he can't update his Facebook by ...\n",
       "2       1  @Kenichan I dived many times for the ball. Man...\n",
       "3       1    my whole body feels itchy and like its on fire \n",
       "4       1  @nationwideclass no, it's not behaving at all...."
      ]
     },
     "execution_count": 2,
     "metadata": {},
     "output_type": "execute_result"
    }
   ],
   "source": [
    "df = pd.read_csv('Dataset/Twitter/train.csv', encoding = \"ISO-8859-1\", header = None)[[0, 5]].rename(columns = {0: 'target', 5: 'text'})\n",
    "df['target'] = np.where(df['target']==4, 0, 1)\n",
    "df.head()"
   ]
  },
  {
   "cell_type": "code",
   "execution_count": 3,
   "id": "d8469444-cfb0-4a27-95bb-cb98c8cec0a7",
   "metadata": {},
   "outputs": [
    {
     "data": {
      "text/html": [
       "<div>\n",
       "<style scoped>\n",
       "    .dataframe tbody tr th:only-of-type {\n",
       "        vertical-align: middle;\n",
       "    }\n",
       "\n",
       "    .dataframe tbody tr th {\n",
       "        vertical-align: top;\n",
       "    }\n",
       "\n",
       "    .dataframe thead th {\n",
       "        text-align: right;\n",
       "    }\n",
       "</style>\n",
       "<table border=\"1\" class=\"dataframe\">\n",
       "  <thead>\n",
       "    <tr style=\"text-align: right;\">\n",
       "      <th></th>\n",
       "      <th>target</th>\n",
       "      <th>text</th>\n",
       "    </tr>\n",
       "  </thead>\n",
       "  <tbody>\n",
       "    <tr>\n",
       "      <th>775000</th>\n",
       "      <td>1</td>\n",
       "      <td>@Torrie11 didn't win  she was 2nd though! @Lou...</td>\n",
       "    </tr>\n",
       "    <tr>\n",
       "      <th>775001</th>\n",
       "      <td>1</td>\n",
       "      <td>Now this will drive me nuts!!! Why was I on Jo...</td>\n",
       "    </tr>\n",
       "    <tr>\n",
       "      <th>775002</th>\n",
       "      <td>1</td>\n",
       "      <td>...didn't win the lotto</td>\n",
       "    </tr>\n",
       "    <tr>\n",
       "      <th>775003</th>\n",
       "      <td>1</td>\n",
       "      <td>@michelleiiioooo trust me love ur not one of t...</td>\n",
       "    </tr>\n",
       "    <tr>\n",
       "      <th>775004</th>\n",
       "      <td>1</td>\n",
       "      <td>This week was soo awesome ! Can't wait till to...</td>\n",
       "    </tr>\n",
       "  </tbody>\n",
       "</table>\n",
       "</div>"
      ],
      "text/plain": [
       "        target                                               text\n",
       "775000       1  @Torrie11 didn't win  she was 2nd though! @Lou...\n",
       "775001       1  Now this will drive me nuts!!! Why was I on Jo...\n",
       "775002       1                           ...didn't win the lotto \n",
       "775003       1  @michelleiiioooo trust me love ur not one of t...\n",
       "775004       1  This week was soo awesome ! Can't wait till to..."
      ]
     },
     "execution_count": 3,
     "metadata": {},
     "output_type": "execute_result"
    }
   ],
   "source": [
    "from sklearn.model_selection import train_test_split\n",
    "# df1 = df[799900:800100]\n",
    "df1 = df[775000:-775000]\n",
    "# df1 = df\n",
    "df1.head()"
   ]
  },
  {
   "cell_type": "code",
   "execution_count": 4,
   "id": "dd64e7da-2496-4cf0-b809-360745854a45",
   "metadata": {},
   "outputs": [
    {
     "data": {
      "text/plain": [
       "1    25000\n",
       "0    25000\n",
       "Name: target, dtype: int64"
      ]
     },
     "execution_count": 4,
     "metadata": {},
     "output_type": "execute_result"
    }
   ],
   "source": [
    "df1['target'].value_counts()"
   ]
  },
  {
   "cell_type": "code",
   "execution_count": 5,
   "id": "eb7f5077-3258-4954-8fc0-c5e548cbefdc",
   "metadata": {},
   "outputs": [
    {
     "name": "stdout",
     "output_type": "stream",
     "text": [
      "INFO: Pandarallel will run on 14 workers.\n",
      "INFO: Pandarallel will use standard multiprocessing data transfer (pipe) to transfer data between the main process and workers.\n",
      "\n",
      "WARNING: You are on Windows. If you detect any issue with pandarallel, be sure you checked out the Troubleshooting page:\n",
      "https://nalepae.github.io/pandarallel/troubleshooting/\n"
     ]
    }
   ],
   "source": [
    "from pandarallel import pandarallel\n",
    "pandarallel.initialize(progress_bar=True)"
   ]
  },
  {
   "cell_type": "code",
   "execution_count": 6,
   "id": "515b1c68-38bf-4774-bccb-54e2951dc14e",
   "metadata": {},
   "outputs": [],
   "source": [
    "def custom_standardization(input_data):\n",
    "    import preprocessor as p\n",
    "    processed_data = p.clean(input_data)\n",
    "    lowercase_value = processed_data.lower()\n",
    "    return lowercase_value\n",
    "\n",
    "# def remove_stopwords(text):\n",
    "#     import nltk\n",
    "#     from nltk.corpus import stopwords\n",
    "#     stop_words = stopwords.words('english')\n",
    "#     text = ' '.join(word for word in text.split(' ') if word not in stop_words and len(word) > 3)\n",
    "#     return text\n",
    "\n",
    "# def stemm_text(text):\n",
    "#     import nltk\n",
    "#     from nltk.corpus import stopwords\n",
    "#     stemmer = nltk.SnowballStemmer(\"english\")\n",
    "#     text = ' '.join(stemmer.stem(word) for word in text.split(' '))\n",
    "#     return text"
   ]
  },
  {
   "cell_type": "code",
   "execution_count": 7,
   "id": "c0ac932c-f96c-4121-ba7f-afae4641aad6",
   "metadata": {
    "scrolled": true,
    "tags": []
   },
   "outputs": [
    {
     "data": {
      "application/vnd.jupyter.widget-view+json": {
       "model_id": "87e668fc8a8a45eeadc70e8a1ee41560",
       "version_major": 2,
       "version_minor": 0
      },
      "text/plain": [
       "VBox(children=(HBox(children=(IntProgress(value=0, description='0.00%', max=3572), Label(value='0 / 3572'))), …"
      ]
     },
     "metadata": {},
     "output_type": "display_data"
    }
   ],
   "source": [
    "df1[\"text\"] = df1[\"text\"].parallel_apply(custom_standardization)\n",
    "# df1['text'] = df1['text'].parallel_apply(remove_stopwords)\n",
    "# df1['text'] = df1['text'].parallel_apply(stemm_text)\n",
    "df1.reset_index(drop = True, inplace = True)"
   ]
  },
  {
   "cell_type": "code",
   "execution_count": 8,
   "id": "15572805-d1cd-4bf4-8fb3-3c4507178de4",
   "metadata": {},
   "outputs": [
    {
     "data": {
      "text/plain": [
       "34"
      ]
     },
     "execution_count": 8,
     "metadata": {},
     "output_type": "execute_result"
    }
   ],
   "source": [
    "max(df1['text'].str.split().apply(lambda x: len(x)))"
   ]
  },
  {
   "cell_type": "code",
   "execution_count": 9,
   "id": "62e115bd-350c-41b3-a520-3707bfa786dd",
   "metadata": {},
   "outputs": [],
   "source": [
    "train_df, test_df = train_test_split(df1, test_size=0.2, random_state = 99)"
   ]
  },
  {
   "cell_type": "code",
   "execution_count": 10,
   "id": "2328fa3c-b94e-427f-b062-b27522a277d2",
   "metadata": {},
   "outputs": [],
   "source": [
    "import torch\n",
    "import numpy as np\n",
    "from transformers import BertTokenizer\n",
    "from transformers import AutoTokenizer, AutoModel\n",
    "\n",
    "# tokenizer = AutoTokenizer.from_pretrained(\"cardiffnlp/twitter-roberta-base-sentiment\")\n",
    "\n",
    "tokenizer = AutoTokenizer.from_pretrained(\"paulagarciaserrano/roberta-depression-detection\")\n",
    "labels = {0: 0, 1: 1}\n",
    "\n",
    "class Dataset(torch.utils.data.Dataset):\n",
    "\n",
    "    def __init__(self, df):\n",
    "\n",
    "        self.labels = [labels[label] for label in df['target']]\n",
    "        self.texts = [tokenizer(text, \n",
    "                               padding='max_length', max_length = 64, truncation=True,\n",
    "                                return_tensors=\"pt\") for text in tqdm(df['text'])]\n",
    "    def get_batch_labels(self, idx):\n",
    "        # Fetch a batch of labels\n",
    "        return np.array(self.labels[idx])\n",
    "\n",
    "    def get_batch_texts(self, idx):\n",
    "        # Fetch a batch of inputs\n",
    "        return self.texts[idx]\n",
    "\n",
    "    def classes(self):\n",
    "        return self.labels\n",
    "\n",
    "    def __len__(self):\n",
    "        return len(self.labels)\n",
    "\n",
    "    def __getitem__(self, idx):\n",
    "\n",
    "        batch_texts = self.get_batch_texts(idx)\n",
    "        batch_y = self.get_batch_labels(idx)\n",
    "\n",
    "        return batch_texts, batch_y"
   ]
  },
  {
   "cell_type": "code",
   "execution_count": 11,
   "id": "b0fe1f35-baef-45f1-9999-8c11668c8db9",
   "metadata": {},
   "outputs": [],
   "source": [
    "from torch import nn\n",
    "from transformers import BertConfig, BertModel\n",
    "\n",
    "class BertClassifier(nn.Module):\n",
    "\n",
    "    def __init__(self, dropout=0.1):\n",
    "        \n",
    "        super(BertClassifier, self).__init__()\n",
    "        \n",
    "        self.bert = AutoModel.from_pretrained(\"paulagarciaserrano/roberta-depression-detection\")\n",
    "        self.dropout = nn.Dropout(dropout)\n",
    "        self.linear = nn.Linear(768, 192)\n",
    "        self.linear1 = nn.Linear(192, 64)\n",
    "        self.linear2 = nn.Linear(64, 2)\n",
    "        self.gelu = nn.GELU()\n",
    "        self.sigmoid = nn.Sigmoid()\n",
    "\n",
    "    def forward(self, input_id, mask):\n",
    "        _, pooled_output = self.bert(input_ids= input_id,attention_mask=mask,return_dict=False)\n",
    "        dropout_output = self.dropout(pooled_output)\n",
    "        \n",
    "        linear_output1 = self.linear(dropout_output)\n",
    "        linear_output1 = self.gelu(linear_output1)\n",
    "        linear_output1 = self.dropout(linear_output1)\n",
    "        \n",
    "        linear_output2 = self.linear1(linear_output1)\n",
    "        linear_output2 = self.gelu(linear_output2)\n",
    "        linear_output2 = self.dropout(linear_output2)\n",
    "        \n",
    "        linear_output3 = self.linear2(linear_output2)\n",
    "        final_layer = self.sigmoid(linear_output3)\n",
    "        \n",
    "        return final_layer"
   ]
  },
  {
   "cell_type": "code",
   "execution_count": 12,
   "id": "6921197e-5b24-4164-a8fc-dedcfbaea347",
   "metadata": {
    "tags": []
   },
   "outputs": [],
   "source": [
    "from torch.optim import Adam\n",
    "from tqdm.notebook import tqdm\n",
    "from alive_progress import alive_bar\n",
    "import time"
   ]
  },
  {
   "cell_type": "code",
   "execution_count": 13,
   "id": "8ed91fd3-25d7-427f-960c-7b88a4ad5e99",
   "metadata": {},
   "outputs": [
    {
     "name": "stdout",
     "output_type": "stream",
     "text": [
      "1.13.1+cu117\n",
      "11.7\n",
      "8500\n",
      "NVIDIA GeForce RTX 3060 Laptop GPU\n",
      "_CudaDeviceProperties(name='NVIDIA GeForce RTX 3060 Laptop GPU', major=8, minor=6, total_memory=6143MB, multi_processor_count=30)\n"
     ]
    }
   ],
   "source": [
    "print(torch.__version__)\n",
    "print(torch.version.cuda)\n",
    "print(torch.backends.cudnn.version())\n",
    "print(torch.cuda.get_device_name(0))\n",
    "print(torch.cuda.get_device_properties(0))"
   ]
  },
  {
   "cell_type": "code",
   "execution_count": 14,
   "id": "910ea661-cae6-47a7-acc8-4609b85762f3",
   "metadata": {},
   "outputs": [
    {
     "data": {
      "text/plain": [
       "0"
      ]
     },
     "execution_count": 14,
     "metadata": {},
     "output_type": "execute_result"
    }
   ],
   "source": [
    "torch.cuda.current_device()"
   ]
  },
  {
   "cell_type": "code",
   "execution_count": null,
   "id": "7e71f445-71c5-4029-8524-8dcc72099243",
   "metadata": {
    "tags": []
   },
   "outputs": [
    {
     "name": "stderr",
     "output_type": "stream",
     "text": [
      "Some weights of the model checkpoint at paulagarciaserrano/roberta-depression-detection were not used when initializing RobertaModel: ['classifier.out_proj.weight', 'classifier.dense.weight', 'classifier.out_proj.bias', 'classifier.dense.bias']\n",
      "- This IS expected if you are initializing RobertaModel from the checkpoint of a model trained on another task or with another architecture (e.g. initializing a BertForSequenceClassification model from a BertForPreTraining model).\n",
      "- This IS NOT expected if you are initializing RobertaModel from the checkpoint of a model that you expect to be exactly identical (initializing a BertForSequenceClassification model from a BertForSequenceClassification model).\n",
      "Some weights of RobertaModel were not initialized from the model checkpoint at paulagarciaserrano/roberta-depression-detection and are newly initialized: ['roberta.pooler.dense.bias', 'roberta.pooler.dense.weight']\n",
      "You should probably TRAIN this model on a down-stream task to be able to use it for predictions and inference.\n"
     ]
    },
    {
     "data": {
      "application/vnd.jupyter.widget-view+json": {
       "model_id": "17bfaedf7354425bbc2472097f87461e",
       "version_major": 2,
       "version_minor": 0
      },
      "text/plain": [
       "  0%|          | 0/40000 [00:00<?, ?it/s]"
      ]
     },
     "metadata": {},
     "output_type": "display_data"
    },
    {
     "data": {
      "application/vnd.jupyter.widget-view+json": {
       "model_id": "c6fefcacc8c04513bf42611d7d176cab",
       "version_major": 2,
       "version_minor": 0
      },
      "text/plain": [
       "  0%|          | 0/10000 [00:00<?, ?it/s]"
      ]
     },
     "metadata": {},
     "output_type": "display_data"
    },
    {
     "name": "stdout",
     "output_type": "stream",
     "text": [
      "EPOCH NUMBER 0\n"
     ]
    },
    {
     "data": {
      "application/vnd.jupyter.widget-view+json": {
       "model_id": "685a57111dda4c90a995962184d65462",
       "version_major": 2,
       "version_minor": 0
      },
      "text/plain": [
       "  0%|          | 0/625 [00:00<?, ?it/s]"
      ]
     },
     "metadata": {},
     "output_type": "display_data"
    },
    {
     "data": {
      "application/vnd.jupyter.widget-view+json": {
       "model_id": "7b52b5c445604779afb9ae9dbaec9fdd",
       "version_major": 2,
       "version_minor": 0
      },
      "text/plain": [
       "  0%|          | 0/157 [00:00<?, ?it/s]"
      ]
     },
     "metadata": {},
     "output_type": "display_data"
    },
    {
     "name": "stdout",
     "output_type": "stream",
     "text": [
      "Epochs: 1 | Train Loss:  0.008                 | Train Accuracy:  0.821                 | Val Loss:  0.007                 | Val Accuracy:  0.847\n",
      "EPOCH NUMBER 1\n"
     ]
    },
    {
     "data": {
      "application/vnd.jupyter.widget-view+json": {
       "model_id": "3398b37bc7014d9b80f9049cd3288d4f",
       "version_major": 2,
       "version_minor": 0
      },
      "text/plain": [
       "  0%|          | 0/625 [00:00<?, ?it/s]"
      ]
     },
     "metadata": {},
     "output_type": "display_data"
    },
    {
     "data": {
      "application/vnd.jupyter.widget-view+json": {
       "model_id": "9927ef1685304cc1918415a1442127ee",
       "version_major": 2,
       "version_minor": 0
      },
      "text/plain": [
       "  0%|          | 0/157 [00:00<?, ?it/s]"
      ]
     },
     "metadata": {},
     "output_type": "display_data"
    },
    {
     "name": "stdout",
     "output_type": "stream",
     "text": [
      "Epochs: 2 | Train Loss:  0.007                 | Train Accuracy:  0.871                 | Val Loss:  0.007                 | Val Accuracy:  0.852\n",
      "EPOCH NUMBER 2\n"
     ]
    },
    {
     "data": {
      "application/vnd.jupyter.widget-view+json": {
       "model_id": "2ec46f58cca94603a0046ace4f6c858c",
       "version_major": 2,
       "version_minor": 0
      },
      "text/plain": [
       "  0%|          | 0/625 [00:00<?, ?it/s]"
      ]
     },
     "metadata": {},
     "output_type": "display_data"
    },
    {
     "data": {
      "application/vnd.jupyter.widget-view+json": {
       "model_id": "b4adb03ad95c44b78dd610887cf11625",
       "version_major": 2,
       "version_minor": 0
      },
      "text/plain": [
       "  0%|          | 0/157 [00:00<?, ?it/s]"
      ]
     },
     "metadata": {},
     "output_type": "display_data"
    },
    {
     "name": "stdout",
     "output_type": "stream",
     "text": [
      "Epochs: 3 | Train Loss:  0.006                 | Train Accuracy:  0.899                 | Val Loss:  0.007                 | Val Accuracy:  0.852\n",
      "EPOCH NUMBER 3\n"
     ]
    },
    {
     "data": {
      "application/vnd.jupyter.widget-view+json": {
       "model_id": "51ed6ada314e4170babf915dbc0e8ee1",
       "version_major": 2,
       "version_minor": 0
      },
      "text/plain": [
       "  0%|          | 0/625 [00:00<?, ?it/s]"
      ]
     },
     "metadata": {},
     "output_type": "display_data"
    },
    {
     "data": {
      "application/vnd.jupyter.widget-view+json": {
       "model_id": "e540aa7a1d94412f8437d98d3e0d2666",
       "version_major": 2,
       "version_minor": 0
      },
      "text/plain": [
       "  0%|          | 0/157 [00:00<?, ?it/s]"
      ]
     },
     "metadata": {},
     "output_type": "display_data"
    },
    {
     "name": "stdout",
     "output_type": "stream",
     "text": [
      "Epochs: 4 | Train Loss:  0.006                 | Train Accuracy:  0.909                 | Val Loss:  0.007                 | Val Accuracy:  0.858\n",
      "EPOCH NUMBER 4\n"
     ]
    },
    {
     "data": {
      "application/vnd.jupyter.widget-view+json": {
       "model_id": "80c40759328e46ca9ddea10717f02133",
       "version_major": 2,
       "version_minor": 0
      },
      "text/plain": [
       "  0%|          | 0/625 [00:00<?, ?it/s]"
      ]
     },
     "metadata": {},
     "output_type": "display_data"
    },
    {
     "data": {
      "application/vnd.jupyter.widget-view+json": {
       "model_id": "bdd30e981ec34e07ae727e86911bf414",
       "version_major": 2,
       "version_minor": 0
      },
      "text/plain": [
       "  0%|          | 0/157 [00:00<?, ?it/s]"
      ]
     },
     "metadata": {},
     "output_type": "display_data"
    }
   ],
   "source": [
    "%%time\n",
    "# torch.cuda.empty_cache()\n",
    "torch.backends.cudnn.benchmark = True\n",
    "\n",
    "def train(model, train_data, val_data, learning_rate, epochs):\n",
    "\n",
    "    train, val = Dataset(train_data), Dataset(val_data)\n",
    "    \n",
    "    train_dataloader = torch.utils.data.DataLoader(train, batch_size = 64, shuffle=False) #, num_workers=4)\n",
    "    val_dataloader = torch.utils.data.DataLoader(val, batch_size = 64) #, num_workers = 4)\n",
    "\n",
    "    use_cuda = torch.cuda.is_available()\n",
    "    device = torch.device(\"cuda\" if use_cuda else \"cpu\")\n",
    "\n",
    "    criterion = nn.CrossEntropyLoss()\n",
    "    optimizer = Adam(model.parameters(), lr= learning_rate)\n",
    "\n",
    "    if use_cuda:\n",
    "            model = model.cuda()\n",
    "            criterion = criterion.cuda()\n",
    "            \n",
    "    # model, optimizer, dataloader = accelerator.prepare(model, optimizer, train_dataloader)\n",
    "\n",
    "    for epoch_num in range(epochs):\n",
    "\n",
    "            total_acc_train = 0\n",
    "            total_loss_train = 0\n",
    "            count = 0\n",
    "            print(f'EPOCH NUMBER {epoch_num}')\n",
    "            for train_input, train_label in tqdm(train_dataloader):\n",
    "                train_label = train_label.to(device)\n",
    "                mask = train_input['attention_mask'].to(device)\n",
    "                input_id = train_input['input_ids'].squeeze(1).to(device)\n",
    "                output = model(input_id, mask)\n",
    "\n",
    "                batch_loss = criterion(output, train_label.long())\n",
    "                total_loss_train += batch_loss.item()\n",
    "\n",
    "                acc = (output.argmax(dim=1) == train_label).sum().item()\n",
    "                total_acc_train += acc\n",
    "\n",
    "                model.zero_grad(set_to_none = True)\n",
    "                batch_loss.backward()\n",
    "                optimizer.step()              \n",
    "            \n",
    "            total_acc_val = 0\n",
    "            total_loss_val = 0\n",
    "\n",
    "            with torch.no_grad():\n",
    "\n",
    "                for val_input, val_label in tqdm(val_dataloader):\n",
    "                    count += 1\n",
    "                    val_label = val_label.to(device)\n",
    "                    mask = val_input['attention_mask'].to(device)\n",
    "                    input_id = val_input['input_ids'].squeeze(1).to(device)\n",
    "\n",
    "                    output = model(input_id, mask)\n",
    "\n",
    "                    batch_loss = criterion(output, val_label.long())\n",
    "                    total_loss_val += batch_loss.item()\n",
    "                    \n",
    "                    acc = (output.argmax(dim=1) == val_label).sum().item()\n",
    "                    total_acc_val += acc\n",
    "            \n",
    "            print(\n",
    "                f'Epochs: {epoch_num + 1} | Train Loss: {total_loss_train / len(train_data): .3f} \\\n",
    "                | Train Accuracy: {total_acc_train / len(train_data): .3f} \\\n",
    "                | Val Loss: {total_loss_val / len(val_data): .3f} \\\n",
    "                | Val Accuracy: {total_acc_val / len(val_data): .3f}'\n",
    "            )\n",
    "            \n",
    "    return model\n",
    "                  \n",
    "EPOCHS = 5\n",
    "model = BertClassifier()\n",
    "LR = 8e-6\n",
    "              \n",
    "final_model = train(model, (train_df), (test_df), LR, EPOCHS)"
   ]
  },
  {
   "cell_type": "markdown",
   "id": "f963bb3f-77cd-4f34-b771-8f506a540906",
   "metadata": {},
   "source": [
    "64 = 38.2s\n",
    "32 = 42.7s\n",
    "16 = 58.6s "
   ]
  },
  {
   "cell_type": "code",
   "execution_count": null,
   "id": "b49f8269-7758-4aed-87d5-21b9a114db17",
   "metadata": {},
   "outputs": [],
   "source": [
    "test = pd.read_csv('Dataset/Twitter/test.csv', encoding = \"ISO-8859-1\", usecols = [\"Sentiment\",\"SentimentText\"]).rename(columns = {'Sentiment': 'target', 'SentimentText': 'text'})\n",
    "test['target'] = np.where(test['target']==1, 0, 1)\n",
    "print(len(test))\n",
    "test.head()"
   ]
  },
  {
   "cell_type": "code",
   "execution_count": null,
   "id": "31569946-e59d-4703-b10e-d321062ced44",
   "metadata": {},
   "outputs": [],
   "source": [
    "from sklearn.model_selection import train_test_split\n",
    "# df1 = df[799900:800100]\n",
    "test1 = test[787800:-787800]"
   ]
  },
  {
   "cell_type": "code",
   "execution_count": null,
   "id": "1ac49406-73c8-4f78-be50-64590332c2db",
   "metadata": {},
   "outputs": [],
   "source": [
    "test1['target'].value_counts()"
   ]
  },
  {
   "cell_type": "code",
   "execution_count": null,
   "id": "42709b5c-c507-4267-9bfa-b16e0c058cf8",
   "metadata": {},
   "outputs": [],
   "source": [
    "from pandarallel import pandarallel\n",
    "pandarallel.initialize(progress_bar=True)"
   ]
  },
  {
   "cell_type": "code",
   "execution_count": null,
   "id": "51586d1b-5cac-404a-9fa5-f7f811afb6ad",
   "metadata": {},
   "outputs": [],
   "source": [
    "def custom_standardization(input_data):\n",
    "    import preprocessor as p\n",
    "    processed_data = p.clean(input_data)\n",
    "    lowercase_value = processed_data.lower()\n",
    "    return lowercase_value"
   ]
  },
  {
   "cell_type": "code",
   "execution_count": null,
   "id": "19ace84b-3c03-4b23-adf7-10bd5712560e",
   "metadata": {},
   "outputs": [],
   "source": [
    "test1[\"text\"] = test1[\"text\"].parallel_apply(custom_standardization)"
   ]
  },
  {
   "cell_type": "code",
   "execution_count": null,
   "id": "fa461b12-1b86-412a-aa68-e048853eae1c",
   "metadata": {},
   "outputs": [],
   "source": [
    "def evaluate(model, test_data):\n",
    "    # test_data = pd.DataFrame([['I want to kill myself', 1], \n",
    "    #                           ['I want to die', 1]], columns = ['text', 'target'])\n",
    "    test = Dataset(test_data)\n",
    "    test_dataloader = torch.utils.data.DataLoader(test, batch_size=1)\n",
    "\n",
    "    use_cuda = torch.cuda.is_available()\n",
    "    device = torch.device(\"cuda\" if use_cuda else \"cpu\")\n",
    "\n",
    "    if use_cuda:\n",
    "        model = final_model.cuda()\n",
    "\n",
    "    res = []\n",
    "    total_acc_test = 0\n",
    "    with torch.no_grad():\n",
    "        count = 0\n",
    "        for test_input, test_label in tqdm(test_dataloader):\n",
    "            # print(test_data.iloc[count]['text'], test_data.iloc[count]['target'])\n",
    "            # count += 1\n",
    "            # if(count == 10):\n",
    "            #     return \n",
    "            \n",
    "            test_label = test_label.to(device)\n",
    "            mask = test_input['attention_mask'].to(device)\n",
    "            input_id = test_input['input_ids'].squeeze(1).to(device)\n",
    "\n",
    "            output = model(input_id, mask)\n",
    "            res.append(output.argmax(dim=1))\n",
    "            # print(output, output.argmax(dim=1))\n",
    "\n",
    "            acc = (output.argmax(dim=1) == test_label).sum().item()\n",
    "            total_acc_test += acc\n",
    "    \n",
    "    print(f'Test Accuracy: {total_acc_test / len(test_data): .3f}')\n",
    "    return res\n",
    "    \n",
    "res = evaluate(model, test1)\n",
    "\n",
    "# GELU - 86.4 | 14000 \n",
    "# RELU6 - 85 | 14000"
   ]
  },
  {
   "cell_type": "code",
   "execution_count": null,
   "id": "c523231f-99fa-4a81-8c26-2d5429bf486f",
   "metadata": {},
   "outputs": [],
   "source": [
    "output = []\n",
    "for i in res:\n",
    "    output.append(i.item())"
   ]
  },
  {
   "cell_type": "code",
   "execution_count": null,
   "id": "666a28d0-587e-4f1f-9387-8fad5fc92d54",
   "metadata": {},
   "outputs": [],
   "source": [
    "# torch.save(final_model, 'model_BERT_Trained.pkl')\n",
    "# import torch\n",
    "# model = torch.load('model_BERT_Trained.pkl')"
   ]
  },
  {
   "cell_type": "code",
   "execution_count": null,
   "id": "21919987-c1dc-454b-9570-f113aec48e89",
   "metadata": {},
   "outputs": [],
   "source": [
    "print(len(test1))\n",
    "print(len(output))"
   ]
  },
  {
   "cell_type": "code",
   "execution_count": null,
   "id": "a78f6030-fee6-4f59-b702-6bd1c9f5c57b",
   "metadata": {},
   "outputs": [],
   "source": [
    "# test1.reset_index(drop = True, inplace = True)"
   ]
  },
  {
   "cell_type": "code",
   "execution_count": null,
   "id": "8689308e-ad62-4f7f-8942-e38ed6dc2c36",
   "metadata": {},
   "outputs": [],
   "source": [
    "# from sklearn.metrics import confusion_matrix\n",
    "# confusion_matrix(test1['label'].values, output)"
   ]
  },
  {
   "cell_type": "code",
   "execution_count": null,
   "id": "e55de77a-afe1-4e8f-b661-1befeafba963",
   "metadata": {},
   "outputs": [],
   "source": [
    "# test1.head()['label'].values"
   ]
  },
  {
   "cell_type": "code",
   "execution_count": null,
   "id": "b886249e-3220-4464-a02e-ebf753b3a15a",
   "metadata": {},
   "outputs": [],
   "source": [
    "# print(model.parameters)"
   ]
  },
  {
   "cell_type": "code",
   "execution_count": null,
   "id": "8a58cce0-88ca-4310-a1fa-184c76f559ae",
   "metadata": {},
   "outputs": [],
   "source": []
  }
 ],
 "metadata": {
  "kernelspec": {
   "display_name": "Python 3 (ipykernel)",
   "language": "python",
   "name": "python3"
  },
  "language_info": {
   "codemirror_mode": {
    "name": "ipython",
    "version": 3
   },
   "file_extension": ".py",
   "mimetype": "text/x-python",
   "name": "python",
   "nbconvert_exporter": "python",
   "pygments_lexer": "ipython3",
   "version": "3.10.6"
  }
 },
 "nbformat": 4,
 "nbformat_minor": 5
}
