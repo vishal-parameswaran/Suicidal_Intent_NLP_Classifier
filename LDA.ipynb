{
 "cells": [
  {
   "cell_type": "code",
   "execution_count": 1,
   "id": "15904347-a5e5-44ac-92e8-ded0aa66e363",
   "metadata": {},
   "outputs": [],
   "source": [
    "import sklearn\n",
    "import nltk\n",
    "import pandas as pd\n",
    "import numpy as np\n",
    "import re\n",
    "import codecs\n",
    "import os\n",
    "\n",
    "from gensim import corpora, models\n",
    "from gensim.models import Phrases\n",
    "from gensim.models import CoherenceModel\n",
    "from gensim.models.ldamodel import LdaModel\n",
    "from gensim.models.ldamulticore import LdaMulticore\n",
    "\n",
    "import pyLDAvis\n",
    "import pyLDAvis.gensim_models as gensimvis\n",
    "from tqdm.notebook import tqdm"
   ]
  },
  {
   "cell_type": "code",
   "execution_count": 2,
   "id": "39d5b044-94db-4055-aec7-2774e8d089ba",
   "metadata": {},
   "outputs": [
    {
     "data": {
      "text/html": [
       "<div>\n",
       "<style scoped>\n",
       "    .dataframe tbody tr th:only-of-type {\n",
       "        vertical-align: middle;\n",
       "    }\n",
       "\n",
       "    .dataframe tbody tr th {\n",
       "        vertical-align: top;\n",
       "    }\n",
       "\n",
       "    .dataframe thead th {\n",
       "        text-align: right;\n",
       "    }\n",
       "</style>\n",
       "<table border=\"1\" class=\"dataframe\">\n",
       "  <thead>\n",
       "    <tr style=\"text-align: right;\">\n",
       "      <th></th>\n",
       "      <th>class_label</th>\n",
       "      <th>text</th>\n",
       "    </tr>\n",
       "  </thead>\n",
       "  <tbody>\n",
       "    <tr>\n",
       "      <th>0</th>\n",
       "      <td>1</td>\n",
       "      <td>@switchfoot http://twitpic.com/2y1zl - Awww, t...</td>\n",
       "    </tr>\n",
       "    <tr>\n",
       "      <th>1</th>\n",
       "      <td>1</td>\n",
       "      <td>is upset that he can't update his Facebook by ...</td>\n",
       "    </tr>\n",
       "    <tr>\n",
       "      <th>2</th>\n",
       "      <td>1</td>\n",
       "      <td>@Kenichan I dived many times for the ball. Man...</td>\n",
       "    </tr>\n",
       "    <tr>\n",
       "      <th>3</th>\n",
       "      <td>1</td>\n",
       "      <td>my whole body feels itchy and like its on fire</td>\n",
       "    </tr>\n",
       "    <tr>\n",
       "      <th>4</th>\n",
       "      <td>1</td>\n",
       "      <td>@nationwideclass no, it's not behaving at all....</td>\n",
       "    </tr>\n",
       "  </tbody>\n",
       "</table>\n",
       "</div>"
      ],
      "text/plain": [
       "   class_label                                               text\n",
       "0            1  @switchfoot http://twitpic.com/2y1zl - Awww, t...\n",
       "1            1  is upset that he can't update his Facebook by ...\n",
       "2            1  @Kenichan I dived many times for the ball. Man...\n",
       "3            1    my whole body feels itchy and like its on fire \n",
       "4            1  @nationwideclass no, it's not behaving at all...."
      ]
     },
     "execution_count": 2,
     "metadata": {},
     "output_type": "execute_result"
    }
   ],
   "source": [
    "questions = pd.read_csv('Dataset/Twitter/train.csv', encoding = \"ISO-8859-1\", header = None)[[0, 5]].rename(columns = {0: 'class_label', 5: 'text'})\n",
    "# Mapping the target to 0 and 1\n",
    "questions['class_label'] = np.where(questions['class_label']==4, 0, 1)\n",
    "questions.dropna(axis = 0, how = 'any', subset = ['text'], inplace = True)\n",
    "questions = questions[questions['class_label'] == 1]\n",
    "questions.head()"
   ]
  },
  {
   "cell_type": "code",
   "execution_count": 3,
   "id": "18e996fd-e32b-4bd3-86ce-0aa86012cd78",
   "metadata": {},
   "outputs": [
    {
     "name": "stderr",
     "output_type": "stream",
     "text": [
      "[nltk_data] Downloading package stopwords to\n",
      "[nltk_data]     C:\\Users\\jasme\\AppData\\Roaming\\nltk_data...\n",
      "[nltk_data]   Package stopwords is already up-to-date!\n"
     ]
    }
   ],
   "source": [
    "#stoptokens = stoptokens.tokens('english')\n",
    "import re\n",
    "import nltk\n",
    "nltk.download('stopwords')\n",
    "stopwords = set(nltk.corpus.stopwords.words('english'))\n",
    "import preprocessor as p\n",
    "def custom_standardization(input_data):\n",
    "    processed_data = p.clean(input_data)\n",
    "    lowercase_value = processed_data.lower()\n",
    "    return lowercase_value\n",
    "\n",
    "def tokenize_and_clean(text):\n",
    "    text = custom_standardization(text)\n",
    "    \n",
    "    #Tokenize\n",
    "    tweet_tokenizer = nltk.tokenize.TweetTokenizer()\n",
    "    tokens = tweet_tokenizer.tokenize(text)\n",
    "   \n",
    "    # Remove single-character tokens\n",
    "    tokens = [token for token in tokens if len(token) > 1]\n",
    "\n",
    "    # Remove numbers\n",
    "    tokens = [token for token in tokens if not token.isnumeric()]\n",
    "    \n",
    "    # Remove punctuation\n",
    "    tokens = [token for token in tokens if token.isalpha()]\n",
    "\n",
    "    # Lowercase all tokens (default_stoptokens are lowercase too)\n",
    "    tokens = [token.lower() for token in tokens]\n",
    "\n",
    "    # Remove stopwords\n",
    "    tokens = [token for token in tokens if token not in stopwords]\n",
    "\n",
    "    return tokens"
   ]
  },
  {
   "cell_type": "code",
   "execution_count": 4,
   "id": "9b46d93e-099f-436c-8596-359d8cb31961",
   "metadata": {},
   "outputs": [
    {
     "data": {
      "application/vnd.jupyter.widget-view+json": {
       "model_id": "115fe5f15c2448f1bc647dddaffdf0d2",
       "version_major": 2,
       "version_minor": 0
      },
      "text/plain": [
       "  0%|          | 0/800000 [00:00<?, ?it/s]"
      ]
     },
     "metadata": {},
     "output_type": "display_data"
    }
   ],
   "source": [
    "tqdm.pandas()\n",
    "\n",
    "questions[\"tokens\"] = questions[\"text\"].progress_apply(tokenize_and_clean)"
   ]
  },
  {
   "cell_type": "code",
   "execution_count": 5,
   "id": "9bee6272-0b21-4e41-a74c-82836c2e09bc",
   "metadata": {},
   "outputs": [],
   "source": [
    "question = questions.copy()\n",
    "df = questions\n",
    "questions = questions[questions['class_label'] == 1].sample(n = 2000)"
   ]
  },
  {
   "cell_type": "code",
   "execution_count": 6,
   "id": "18dcf54f-e2e4-4bcc-bbb0-6511f13649a1",
   "metadata": {},
   "outputs": [
    {
     "data": {
      "text/plain": [
       "1    2000\n",
       "Name: class_label, dtype: int64"
      ]
     },
     "execution_count": 6,
     "metadata": {},
     "output_type": "execute_result"
    }
   ],
   "source": [
    "questions['class_label'].value_counts()"
   ]
  },
  {
   "cell_type": "code",
   "execution_count": 7,
   "id": "4b3e2059-ae62-4bfc-a39c-f0b922bf3cea",
   "metadata": {},
   "outputs": [
    {
     "data": {
      "text/plain": [
       "1    800000\n",
       "Name: class_label, dtype: int64"
      ]
     },
     "execution_count": 7,
     "metadata": {},
     "output_type": "execute_result"
    }
   ],
   "source": [
    "df['class_label'].value_counts()"
   ]
  },
  {
   "cell_type": "code",
   "execution_count": 8,
   "id": "c13306d5-52c5-4fd6-97bf-a79a0900d5c8",
   "metadata": {},
   "outputs": [],
   "source": [
    "from collections import defaultdict\n",
    "texts = questions['tokens'].to_list()\n",
    "\n",
    "# remove words that appear only once\n",
    "frequency = defaultdict(int)\n",
    "for text in texts:\n",
    "    for token in text:\n",
    "        frequency[token] += 1\n",
    "\n",
    "texts = [[token for token in text if frequency[token] > 1]\n",
    "         for text in texts]"
   ]
  },
  {
   "cell_type": "code",
   "execution_count": 9,
   "id": "04f4c40c-a5e1-46a2-9e4f-08f9c6bbffd0",
   "metadata": {},
   "outputs": [],
   "source": [
    "from collections import defaultdict\n",
    "texts_df = df['tokens'].to_list()\n",
    "\n",
    "# remove words that appear only once\n",
    "frequency_df = defaultdict(int)\n",
    "for text_df in texts_df:\n",
    "    for token_df in text_df:\n",
    "        frequency_df[token_df] += 1\n",
    "\n",
    "texts = [[token_df for token_df in text_df if frequency_df[token_df] > 1]\n",
    "         for text_df in texts_df]"
   ]
  },
  {
   "cell_type": "code",
   "execution_count": 10,
   "id": "17a24a0f-1e36-4e87-a90d-8493b9e04082",
   "metadata": {},
   "outputs": [
    {
     "data": {
      "application/vnd.jupyter.widget-view+json": {
       "model_id": "0704f3f29b734fffba8b2e478c65e2b5",
       "version_major": 2,
       "version_minor": 0
      },
      "text/plain": [
       "  0%|          | 0/2000 [00:00<?, ?it/s]"
      ]
     },
     "metadata": {},
     "output_type": "display_data"
    },
    {
     "name": "stdout",
     "output_type": "stream",
     "text": [
      "Number of unique tokens: 4499\n",
      "Number of documents: 2000\n"
     ]
    }
   ],
   "source": [
    "dictionary = corpora.Dictionary(questions[\"tokens\"])\n",
    "corpus = [dictionary.doc2bow(doc) for doc in tqdm(questions[\"tokens\"])]\n",
    "\n",
    "print(f'Number of unique tokens: {len(dictionary)}')\n",
    "print(f'Number of documents: {len(corpus)}')"
   ]
  },
  {
   "cell_type": "code",
   "execution_count": 11,
   "id": "ed3ef853-6cb8-4c7b-9e46-fa3b6a0e5240",
   "metadata": {},
   "outputs": [
    {
     "data": {
      "application/vnd.jupyter.widget-view+json": {
       "model_id": "a38c397405d44eada3911229999dc58c",
       "version_major": 2,
       "version_minor": 0
      },
      "text/plain": [
       "  0%|          | 0/800000 [00:00<?, ?it/s]"
      ]
     },
     "metadata": {},
     "output_type": "display_data"
    },
    {
     "name": "stdout",
     "output_type": "stream",
     "text": [
      "Number of unique tokens: 158794\n",
      "Number of documents: 800000\n"
     ]
    }
   ],
   "source": [
    "dictionary_df = corpora.Dictionary(df[\"tokens\"])\n",
    "corpus_df = [dictionary_df.doc2bow(doc) for doc in tqdm(df[\"tokens\"])]\n",
    "\n",
    "print(f'Number of unique tokens: {len(dictionary_df)}')\n",
    "print(f'Number of documents: {len(corpus_df)}')"
   ]
  },
  {
   "cell_type": "code",
   "execution_count": 12,
   "id": "2df9bdc5-2c06-4698-ad32-ee7bf69a6fd2",
   "metadata": {},
   "outputs": [],
   "source": [
    "def compute_coherence_values(corpus, dictionary, k):\n",
    "    \n",
    "    lda_model = LdaModel(corpus=tqdm(corpus),\n",
    "                       id2word=dictionary,\n",
    "                       num_topics=k,\n",
    "                       random_state=10,                  \n",
    "                       passes=3,\n",
    "                       alpha='asymmetric'\n",
    "                   )\n",
    "    \n",
    "    coherence_model_lda = CoherenceModel(model=lda_model, texts=questions[\"tokens\"], dictionary=dictionary, coherence='c_v')\n",
    "    \n",
    "    return coherence_model_lda.get_coherence()"
   ]
  },
  {
   "cell_type": "code",
   "execution_count": 13,
   "id": "3b26d36f-16d9-4cd3-acea-a7be1ae71a80",
   "metadata": {},
   "outputs": [
    {
     "data": {
      "application/vnd.jupyter.widget-view+json": {
       "model_id": "fd98649dcd19485f9522edeffe2a3ab2",
       "version_major": 2,
       "version_minor": 0
      },
      "text/plain": [
       "  0%|          | 0/10 [00:00<?, ?it/s]"
      ]
     },
     "metadata": {},
     "output_type": "display_data"
    },
    {
     "data": {
      "application/vnd.jupyter.widget-view+json": {
       "model_id": "b169b73696714bb3b85f1701544aa602",
       "version_major": 2,
       "version_minor": 0
      },
      "text/plain": [
       "  0%|          | 0/2000 [00:00<?, ?it/s]"
      ]
     },
     "metadata": {},
     "output_type": "display_data"
    },
    {
     "data": {
      "application/vnd.jupyter.widget-view+json": {
       "model_id": "be2e9836cae6426b82ceed30416e1dac",
       "version_major": 2,
       "version_minor": 0
      },
      "text/plain": [
       "  0%|          | 0/2000 [00:00<?, ?it/s]"
      ]
     },
     "metadata": {},
     "output_type": "display_data"
    },
    {
     "data": {
      "application/vnd.jupyter.widget-view+json": {
       "model_id": "2b668d458aab4d4a97256c57c5430fb8",
       "version_major": 2,
       "version_minor": 0
      },
      "text/plain": [
       "  0%|          | 0/2000 [00:00<?, ?it/s]"
      ]
     },
     "metadata": {},
     "output_type": "display_data"
    },
    {
     "data": {
      "application/vnd.jupyter.widget-view+json": {
       "model_id": "7d2ecb91d96a4b4fb4eac4b370b496bf",
       "version_major": 2,
       "version_minor": 0
      },
      "text/plain": [
       "  0%|          | 0/2000 [00:00<?, ?it/s]"
      ]
     },
     "metadata": {},
     "output_type": "display_data"
    },
    {
     "data": {
      "application/vnd.jupyter.widget-view+json": {
       "model_id": "bed290c3cc51492a9e55f41750e96772",
       "version_major": 2,
       "version_minor": 0
      },
      "text/plain": [
       "  0%|          | 0/2000 [00:00<?, ?it/s]"
      ]
     },
     "metadata": {},
     "output_type": "display_data"
    },
    {
     "data": {
      "application/vnd.jupyter.widget-view+json": {
       "model_id": "e089fda4ea63467bb40bdadf6dec42c0",
       "version_major": 2,
       "version_minor": 0
      },
      "text/plain": [
       "  0%|          | 0/2000 [00:00<?, ?it/s]"
      ]
     },
     "metadata": {},
     "output_type": "display_data"
    },
    {
     "data": {
      "application/vnd.jupyter.widget-view+json": {
       "model_id": "0482f631ede64140a625e00f083e5a85",
       "version_major": 2,
       "version_minor": 0
      },
      "text/plain": [
       "  0%|          | 0/2000 [00:00<?, ?it/s]"
      ]
     },
     "metadata": {},
     "output_type": "display_data"
    },
    {
     "data": {
      "application/vnd.jupyter.widget-view+json": {
       "model_id": "041a714a8e5e4b2da5d931c3f0d9d85a",
       "version_major": 2,
       "version_minor": 0
      },
      "text/plain": [
       "  0%|          | 0/2000 [00:00<?, ?it/s]"
      ]
     },
     "metadata": {},
     "output_type": "display_data"
    },
    {
     "data": {
      "application/vnd.jupyter.widget-view+json": {
       "model_id": "b76f842ba8494f51b4cb6e93b744c58a",
       "version_major": 2,
       "version_minor": 0
      },
      "text/plain": [
       "  0%|          | 0/2000 [00:00<?, ?it/s]"
      ]
     },
     "metadata": {},
     "output_type": "display_data"
    },
    {
     "data": {
      "application/vnd.jupyter.widget-view+json": {
       "model_id": "c49be80105414216aeb3d1d8d35442d0",
       "version_major": 2,
       "version_minor": 0
      },
      "text/plain": [
       "  0%|          | 0/2000 [00:00<?, ?it/s]"
      ]
     },
     "metadata": {},
     "output_type": "display_data"
    },
    {
     "name": "stdout",
     "output_type": "stream",
     "text": [
      "CPU times: total: 28.1 s\n",
      "Wall time: 2min 16s\n"
     ]
    }
   ],
   "source": [
    "%%time\n",
    "\n",
    "grid = {}\n",
    "grid['Validation_Set'] = {}\n",
    "# Topics range\n",
    "min_topics = 1\n",
    "max_topics = 10\n",
    "step_size = 1\n",
    "topics_range = range(min_topics, max_topics+1, step_size)\n",
    "\n",
    "# Validation sets\n",
    "num_of_docs = len(corpus)\n",
    "\n",
    "model_results = {\n",
    "                 'Topics': [],\n",
    "                 'Coherence': []\n",
    "                }\n",
    "\n",
    "for k in tqdm(topics_range):\n",
    "    cv = compute_coherence_values(corpus=corpus, dictionary=dictionary, k = k)\n",
    "    model_results['Topics'].append(k)\n",
    "    model_results['Coherence'].append(cv)\n",
    "                    \n",
    "lda_tuning = pd.DataFrame(model_results)\n",
    "lda_tuning.to_csv('lda_tuning_results.csv', index=False)"
   ]
  },
  {
   "cell_type": "code",
   "execution_count": 23,
   "id": "b77b8940-9824-426c-b533-ab62c27f7158",
   "metadata": {},
   "outputs": [
    {
     "data": {
      "text/html": [
       "<div>\n",
       "<style scoped>\n",
       "    .dataframe tbody tr th:only-of-type {\n",
       "        vertical-align: middle;\n",
       "    }\n",
       "\n",
       "    .dataframe tbody tr th {\n",
       "        vertical-align: top;\n",
       "    }\n",
       "\n",
       "    .dataframe thead th {\n",
       "        text-align: right;\n",
       "    }\n",
       "</style>\n",
       "<table border=\"1\" class=\"dataframe\">\n",
       "  <thead>\n",
       "    <tr style=\"text-align: right;\">\n",
       "      <th></th>\n",
       "      <th>Topics</th>\n",
       "      <th>Coherence</th>\n",
       "    </tr>\n",
       "  </thead>\n",
       "  <tbody>\n",
       "    <tr>\n",
       "      <th>9</th>\n",
       "      <td>10</td>\n",
       "      <td>0.432457</td>\n",
       "    </tr>\n",
       "    <tr>\n",
       "      <th>8</th>\n",
       "      <td>9</td>\n",
       "      <td>0.415960</td>\n",
       "    </tr>\n",
       "    <tr>\n",
       "      <th>7</th>\n",
       "      <td>8</td>\n",
       "      <td>0.379302</td>\n",
       "    </tr>\n",
       "    <tr>\n",
       "      <th>6</th>\n",
       "      <td>7</td>\n",
       "      <td>0.377491</td>\n",
       "    </tr>\n",
       "    <tr>\n",
       "      <th>5</th>\n",
       "      <td>6</td>\n",
       "      <td>0.353970</td>\n",
       "    </tr>\n",
       "    <tr>\n",
       "      <th>4</th>\n",
       "      <td>5</td>\n",
       "      <td>0.343317</td>\n",
       "    </tr>\n",
       "    <tr>\n",
       "      <th>3</th>\n",
       "      <td>4</td>\n",
       "      <td>0.306628</td>\n",
       "    </tr>\n",
       "    <tr>\n",
       "      <th>2</th>\n",
       "      <td>3</td>\n",
       "      <td>0.260189</td>\n",
       "    </tr>\n",
       "    <tr>\n",
       "      <th>1</th>\n",
       "      <td>2</td>\n",
       "      <td>0.229458</td>\n",
       "    </tr>\n",
       "    <tr>\n",
       "      <th>0</th>\n",
       "      <td>1</td>\n",
       "      <td>0.206059</td>\n",
       "    </tr>\n",
       "  </tbody>\n",
       "</table>\n",
       "</div>"
      ],
      "text/plain": [
       "   Topics  Coherence\n",
       "9      10   0.432457\n",
       "8       9   0.415960\n",
       "7       8   0.379302\n",
       "6       7   0.377491\n",
       "5       6   0.353970\n",
       "4       5   0.343317\n",
       "3       4   0.306628\n",
       "2       3   0.260189\n",
       "1       2   0.229458\n",
       "0       1   0.206059"
      ]
     },
     "execution_count": 23,
     "metadata": {},
     "output_type": "execute_result"
    }
   ],
   "source": [
    "lda_tuning = pd.DataFrame(model_results)\n",
    "lda_tuning.sort_values(by=['Coherence'], ascending=False)"
   ]
  },
  {
   "cell_type": "code",
   "execution_count": 15,
   "id": "eee949d7-3244-4197-bf70-647c9eeb8c50",
   "metadata": {},
   "outputs": [
    {
     "data": {
      "text/plain": [
       "<AxesSubplot:xlabel='Topics'>"
      ]
     },
     "execution_count": 15,
     "metadata": {},
     "output_type": "execute_result"
    },
    {
     "data": {
      "image/png": "[encoded data removed]",
      "text/plain": [
       "<Figure size 432x288 with 1 Axes>"
      ]
     },
     "metadata": {
      "needs_background": "light"
     },
     "output_type": "display_data"
    }
   ],
   "source": [
    "lda_tuning.plot(x ='Topics', y='Coherence', kind = 'line')"
   ]
  },
  {
   "cell_type": "code",
   "execution_count": 16,
   "id": "f1e1c10a-1f67-44dd-87d3-1ee6a3c73d8f",
   "metadata": {},
   "outputs": [],
   "source": [
    "import pyLDAvis\n",
    "import pyLDAvis.gensim_models as gensimvis"
   ]
  },
  {
   "cell_type": "code",
   "execution_count": 17,
   "id": "b488c1c8-9a3c-435f-9833-cd9719921692",
   "metadata": {},
   "outputs": [
    {
     "data": {
      "text/plain": [
       "20"
      ]
     },
     "execution_count": 17,
     "metadata": {},
     "output_type": "execute_result"
    }
   ],
   "source": [
    "import os\n",
    "os.cpu_count()"
   ]
  },
  {
   "cell_type": "code",
   "execution_count": 20,
   "id": "3db6b8db-6d24-4263-9b35-89f36bccbe8f",
   "metadata": {},
   "outputs": [
    {
     "data": {
      "application/vnd.jupyter.widget-view+json": {
       "model_id": "9e71b799857340639dd362b2ed3743cd",
       "version_major": 2,
       "version_minor": 0
      },
      "text/plain": [
       "  0%|          | 0/800000 [00:00<?, ?it/s]"
      ]
     },
     "metadata": {},
     "output_type": "display_data"
    },
    {
     "name": "stdout",
     "output_type": "stream",
     "text": [
      "CPU times: total: 10min 41s\n",
      "Wall time: 17min 20s\n"
     ]
    }
   ],
   "source": [
    "%%time\n",
    "\n",
    "ldamodel = LdaModel(corpus=tqdm(corpus_df),\n",
    "                       id2word=dictionary_df,\n",
    "                       num_topics=10,\n",
    "                       random_state=10,                  \n",
    "                       passes=5,\n",
    "                       alpha='asymmetric'\n",
    "                    # workers=14\n",
    "                   )"
   ]
  },
  {
   "cell_type": "code",
   "execution_count": 21,
   "id": "719fcf0d-1da0-459f-a5f0-7172084dace3",
   "metadata": {},
   "outputs": [
    {
     "name": "stderr",
     "output_type": "stream",
     "text": [
      "C:\\Users\\jasme\\AppData\\Local\\Programs\\Python\\Python310\\lib\\site-packages\\pyLDAvis\\_prepare.py:247: FutureWarning: In a future version of pandas all arguments of DataFrame.drop except for the argument 'labels' will be keyword-only.\n",
      "  by='saliency', ascending=False).head(R).drop('saliency', 1)\n"
     ]
    },
    {
     "data": {
      "text/html": [
       "\n",
       "<link rel=\"stylesheet\" type=\"text/css\" href=\"https://cdn.jsdelivr.net/gh/bmabey/pyLDAvis@3.3.1/pyLDAvis/js/ldavis.v1.0.0.css\">\n",
       "\n",
       "\n",
       "<div id=\"ldavis_el684422661901216642940813493\"></div>\n",
       "<script type=\"text/javascript\">\n",
       "\n",
       "var ldavis_el684422661901216642940813493_data = {\"mdsDat\": {\"x\": [-0.235190499213202, -0.22091116754062817, -0.10321181915775521, -0.14974257917801245, 0.14636925885858024, -0.011197759809738627, -0.03651117518247614, 0.16924729401138522, 0.1845657295761643, 0.2565827176356823], \"y\": [-0.016429576296664132, 0.10226417026526795, 0.08309741781158082, 0.09979920707697658, 0.2522953186646375, -0.2795912412981933, -0.20147062063815444, -0.10924522255334128, 0.061842254279895544, 0.00743829268799476], \"topics\": [1, 2, 3, 4, 5, 6, 7, 8, 9, 10], \"cluster\": [1, 1, 1, 1, 1, 1, 1, 1, 1, 1], \"Freq\": [29.5265029242124, 13.977585322182593, 10.972802524399881, 8.572673521457839, 7.93852128011533, 6.646217847965093, 6.526379437711189, 6.369475128011713, 5.256626100333924, 4.213215913610031]}, \"tinfo\": {\"Term\": [\"work\", \"like\", \"miss\", \"today\", \"want\", \"day\", \"wish\", \"feel\", \"sad\", \"hate\", \"know\", \"go\", \"really\", \"getting\", \"could\", \"home\", \"come\", \"week\", \"sorry\", \"working\", \"going\", \"much\", \"oh\", \"farrah\", \"school\", \"dont\", \"sucks\", \"last\", \"sick\", \"hope\", \"last\", \"night\", \"phone\", \"hours\", \"missed\", \"first\", \"since\", \"hear\", \"nice\", \"late\", \"died\", \"yesterday\", \"big\", \"dad\", \"sun\", \"weather\", \"gotta\", \"till\", \"try\", \"call\", \"hour\", \"tweet\", \"least\", \"mom\", \"lunch\", \"rest\", \"sooo\", \"later\", \"class\", \"ago\", \"morning\", \"sleep\", \"got\", \"time\", \"back\", \"still\", \"get\", \"wait\", \"one\", \"today\", \"day\", \"good\", \"went\", \"great\", \"going\", \"days\", \"home\", \"sorry\", \"go\", \"new\", \"well\", \"though\", \"see\", \"need\", \"im\", \"lol\", \"much\", \"think\", \"rain\", \"thanks\", \"bit\", \"two\", \"shit\", \"many\", \"wrong\", \"thats\", \"money\", \"far\", \"eat\", \"computer\", \"seems\", \"place\", \"else\", \"coffee\", \"unfortunately\", \"til\", \"idea\", \"finished\", \"wishing\", \"eating\", \"trip\", \"told\", \"water\", \"mind\", \"break\", \"change\", \"hit\", \"ass\", \"something\", \"things\", \"need\", \"always\", \"think\", \"away\", \"lol\", \"make\", \"someone\", \"get\", \"much\", \"though\", \"would\", \"got\", \"one\", \"oh\", \"fun\", \"good\", \"going\", \"go\", \"want\", \"dont\", \"wanna\", \"watch\", \"makes\", \"let\", \"transformers\", \"kate\", \"jon\", \"anyone\", \"cry\", \"buy\", \"seen\", \"fuck\", \"sore\", \"hungry\", \"tv\", \"fall\", \"upset\", \"throat\", \"online\", \"excited\", \"worse\", \"fail\", \"happen\", \"ipod\", \"ones\", \"update\", \"doesnt\", \"peace\", \"know\", \"sad\", \"cant\", \"really\", \"omg\", \"see\", \"go\", \"twitter\", \"im\", \"yes\", \"anything\", \"get\", \"even\", \"new\", \"one\", \"think\", \"find\", \"lol\", \"right\", \"like\", \"feel\", \"better\", \"look\", \"god\", \"looks\", \"hair\", \"live\", \"cause\", \"feels\", \"real\", \"broken\", \"jealous\", \"worst\", \"concert\", \"dream\", \"bye\", \"wtf\", \"cat\", \"care\", \"sold\", \"crying\", \"goodbye\", \"dying\", \"awful\", \"meeting\", \"bummed\", \"weird\", \"saying\", \"course\", \"sick\", \"soon\", \"hope\", \"sorry\", \"yeah\", \"oh\", \"say\", \"please\", \"probably\", \"pain\", \"bad\", \"really\", \"im\", \"know\", \"well\", \"haha\", \"right\", \"good\", \"said\", \"hate\", \"life\", \"stupid\", \"anymore\", \"waiting\", \"without\", \"keep\", \"believe\", \"hurt\", \"stop\", \"soo\", \"needs\", \"saturday\", \"happened\", \"mad\", \"heard\", \"ive\", \"remember\", \"tickets\", \"month\", \"drive\", \"watched\", \"ah\", \"pay\", \"scared\", \"sometimes\", \"problem\", \"lonely\", \"tour\", \"ha\", \"crazy\", \"people\", \"us\", \"never\", \"man\", \"cant\", \"work\", \"wish\", \"could\", \"long\", \"left\", \"bored\", \"happy\", \"stuck\", \"th\", \"boo\", \"okay\", \"taking\", \"sigh\", \"pm\", \"forward\", \"birthday\", \"eyes\", \"lucky\", \"meet\", \"exam\", \"cute\", \"mood\", \"driving\", \"sweet\", \"college\", \"sound\", \"gym\", \"black\", \"sunny\", \"line\", \"tired\", \"home\", \"day\", \"tomorrow\", \"bed\", \"way\", \"go\", \"going\", \"early\", \"im\", \"tonight\", \"time\", \"getting\", \"school\", \"sucks\", \"looking\", \"ready\", \"headache\", \"job\", \"leaving\", \"food\", \"beach\", \"aw\", \"seriously\", \"starting\", \"sadly\", \"part\", \"hi\", \"check\", \"girls\", \"stomach\", \"ate\", \"finish\", \"kind\", \"shopping\", \"lots\", \"sleepy\", \"moment\", \"worried\", \"english\", \"shower\", \"point\", \"feeling\", \"today\", \"gone\", \"really\", \"day\", \"sick\", \"woke\", \"good\", \"well\", \"tomorrow\", \"going\", \"go\", \"back\", \"miss\", \"come\", \"already\", \"hot\", \"summer\", \"friends\", \"didnt\", \"best\", \"friend\", \"wants\", \"family\", \"ill\", \"alone\", \"party\", \"face\", \"hell\", \"sounds\", \"soooo\", \"hopefully\", \"true\", \"called\", \"boy\", \"reason\", \"xx\", \"red\", \"season\", \"town\", \"understand\", \"forever\", \"brother\", \"head\", \"movie\", \"much\", \"love\", \"nothing\", \"gonna\", \"sad\", \"going\", \"back\", \"guys\", \"week\", \"working\", \"hurts\", \"car\", \"baby\", \"iphone\", \"cold\", \"coming\", \"hey\", \"rip\", \"thinking\", \"boring\", \"dead\", \"says\", \"video\", \"super\", \"cut\", \"seem\", \"suck\", \"song\", \"ed\", \"months\", \"heat\", \"close\", \"tummy\", \"flu\", \"bout\", \"knew\", \"sat\", \"hang\", \"missing\", \"talk\", \"next\", \"still\", \"farrah\", \"poor\", \"fawcett\", \"aww\", \"saw\", \"actually\", \"found\", \"news\", \"almost\", \"cool\", \"broke\", \"use\", \"office\", \"internet\", \"sunday\", \"free\", \"fucking\", \"open\", \"win\", \"talking\", \"slow\", \"beautiful\", \"terrible\", \"due\", \"works\", \"killing\", \"felt\", \"body\", \"account\", \"pics\", \"girl\", \"watching\", \"sad\", \"lost\", \"thing\", \"little\"], \"Freq\": [48271.0, 41452.0, 36053.0, 44439.0, 31246.0, 45293.0, 22770.0, 23458.0, 33433.0, 20055.0, 28649.0, 48830.0, 33525.0, 15711.0, 15161.0, 24352.0, 13661.0, 12721.0, 22008.0, 12290.0, 35909.0, 22102.0, 23374.0, 9892.0, 11435.0, 13876.0, 11219.0, 24199.0, 15214.0, 15574.0, 24198.773325986225, 19911.458628574394, 10126.664729336226, 9461.97274398919, 8584.852017015215, 7263.248421828133, 6730.143120467265, 6340.692562535129, 6174.02976047638, 5954.105107434838, 5929.453562220728, 5903.056047994541, 5753.203378314479, 5603.206404333246, 5601.3767915747985, 5341.725126743567, 5305.551467080098, 5281.698305192831, 5225.120846245799, 5101.440380159809, 4763.443536549059, 4597.133017836511, 4459.680721942699, 4415.116313487913, 4360.78630925755, 4212.047005660935, 4060.039190804118, 3974.590698734851, 3864.8165706434133, 3810.37353432336, 12789.82811191878, 16541.595261285172, 26113.900135115236, 22141.87262740092, 23978.505432165657, 21274.16445930906, 29039.87895071944, 7398.889190097848, 18136.024411356848, 23571.077497141967, 23874.297380944183, 18042.864870128935, 6727.015899319177, 7262.175370523343, 15219.85376694867, 8416.606012153543, 11011.659271678001, 10469.889683868767, 14778.430300629836, 8917.396946166587, 9484.168478667969, 8398.917243664333, 9123.718940761211, 9478.934339368061, 9507.779375109667, 8604.634139805483, 7984.1731182486465, 7448.308326804816, 7103.674171819822, 7081.805648940659, 6429.073190399884, 6018.048837895634, 5909.698269078036, 5462.376677568166, 5444.312601323909, 5294.158066571197, 4849.920698746784, 4563.617629075051, 4456.60691038035, 3851.314635011587, 3800.6817844807, 3543.2582638636986, 3431.438924387139, 3363.263882790323, 3181.1887387332245, 3148.0106822288335, 3138.764788902052, 3136.78034102301, 3039.6583297981856, 3025.981228210851, 2997.2436547548714, 2925.179979987206, 2805.708940527643, 2770.558564712948, 2678.6810892993176, 2525.7162938255756, 2514.609913726703, 2424.3908417266384, 6893.463245349696, 5579.751971694389, 11647.889301418158, 4840.527835704711, 8567.124398387272, 5455.14484009705, 7698.936477565177, 5906.824155009828, 4738.350708374565, 8882.84317119646, 6270.007724851115, 5474.559111419893, 5243.2355572810475, 6769.204631742259, 6004.681728256329, 5479.274627600561, 4420.26044365456, 5301.286811208043, 4872.95071044388, 4828.495225349155, 31245.03930804281, 13875.890499539768, 12892.871828041165, 7650.796712369973, 5864.638597615273, 5716.877979772315, 5036.059436125123, 4964.596130066553, 4655.1805583771475, 4468.552708654714, 3985.79426184795, 3824.503916705884, 3527.660064345014, 3430.229449576926, 3295.8787030227254, 3204.662118323918, 2971.0921580808326, 2895.755374603683, 2646.231683263397, 2606.716164785887, 2524.064524191132, 2495.73594006277, 2482.2865834995746, 2418.44869604337, 2295.7468055417544, 2182.327034944436, 2181.999531196531, 2173.3348937754586, 2161.9869379170796, 2136.9473931381403, 22482.695715393827, 23150.914255934338, 10306.26038884175, 20684.494871973093, 5632.579439184886, 9845.551807452968, 14424.589074619775, 5890.097918467843, 9419.02123155745, 3794.750782286291, 3406.1179487659724, 7421.704830307954, 4590.969101019527, 4875.94860854285, 5825.438401258449, 4886.746850970585, 3759.681697762815, 3986.1149046793753, 3669.026027990946, 41451.129911232216, 23457.311020025216, 11328.820600022882, 5435.251103825385, 5087.364610007915, 4907.4028449748275, 4535.864968580199, 4459.31127332338, 4270.972284146141, 3784.7537316340768, 3295.8240127183994, 3277.106419163826, 3037.684302962675, 2952.0574329217843, 2487.8296954430257, 2477.9997481775063, 2210.2983198530687, 2190.682182042553, 2169.735402360929, 2147.612660815246, 2098.7213079223375, 2077.459042285742, 1920.2936535107904, 1883.725505818809, 1839.2441740038237, 1780.4906032640101, 1779.606389334039, 1757.9880533841865, 1728.0821945672544, 1670.3269334061758, 11579.25781426492, 6777.770299152337, 9602.631102401854, 11538.063487295633, 6277.644110589204, 11192.126355377468, 4835.681641932582, 5016.822213016563, 2925.7664261790687, 3069.911346411557, 7296.15616718977, 7226.240366436309, 6484.935448126624, 6166.128358067205, 5121.241938171327, 3993.337205128544, 4502.56085345564, 4756.560739882672, 3077.121578819357, 20054.213088808276, 10235.018073529613, 6824.662818546152, 6688.963784135449, 6502.53994456879, 6230.161294779396, 6057.88213307657, 5570.327145824911, 5554.548706612762, 5540.542201521689, 4098.104761222039, 3969.3427293617206, 3710.667496000567, 3688.629546543187, 3559.6191278508954, 3323.660551848518, 3002.1104263001835, 2981.7779583693555, 2980.408386604151, 2929.5212993499804, 2779.6798156685513, 2626.674540169751, 2530.3221274970074, 2518.359444886317, 2485.3663395029153, 2476.8367032770457, 2324.126007267388, 2293.2314261952274, 2182.801801250042, 2176.0128988417223, 2741.769015690947, 4907.702393099135, 3552.6249922771685, 3555.504334574075, 3084.555202376147, 3263.9221005632794, 48270.622744645814, 22769.109493531072, 15160.59903671419, 10103.757786478775, 8534.076881216057, 8420.61978710833, 7827.111306192805, 4609.50722452449, 4349.226715071789, 4204.944523151567, 3652.618041818346, 3322.7569963321152, 3006.43353754834, 2919.3558420165073, 2676.590132379569, 2593.8175223999715, 2374.61656299356, 2294.239134964363, 2249.588777580079, 2056.9673665053497, 1984.2665297027825, 1894.9915969366539, 1794.494369134592, 1772.8361301371579, 1733.308079935095, 1655.6330128459015, 1653.4286516372472, 1643.4773075505636, 1631.818584275952, 1452.2315020007795, 8232.571289098029, 10916.336620604136, 15957.984808190924, 7232.450776852445, 5344.941897268806, 5695.295224615792, 12261.515990300819, 9382.623644167024, 3558.436726140434, 5792.568684402181, 3437.378012155278, 2871.513604882726, 15710.336955427145, 11434.996682287996, 11218.390019899089, 6931.738321634174, 6898.652836197401, 6187.830569176432, 5800.571158172309, 4665.078097470392, 4347.5946827465505, 3762.3983237242815, 3331.2100358571615, 3270.5595307977314, 2842.49191175433, 2704.8545268009743, 2668.691511589657, 2651.418736236003, 2599.107725590255, 2368.293325619581, 2363.725416648057, 2326.2574035591865, 2320.776079353393, 2285.281969244342, 2204.1152652614314, 2182.3855099198468, 2142.394445414362, 2071.097922570688, 1915.1790746891459, 1776.642931784638, 1724.497648374138, 1643.55146987813, 9351.652433112702, 20867.362109847112, 3592.9234876795895, 5614.36170224842, 5460.1610876923205, 3634.8436505153636, 2708.3832677114833, 3499.533608936998, 2897.772521271666, 2765.275179011518, 2806.8837080210124, 2536.8024465788803, 2459.4751179725463, 36052.733788265694, 13660.525950895062, 10030.060864239107, 9812.68036427017, 7220.005807253513, 6781.208224839107, 5295.215291757605, 5292.32180077491, 5101.17193445382, 4809.789589824083, 4626.582843917511, 4300.41586100558, 4137.354964788188, 3780.486091881782, 3356.2564237868814, 3245.3976811221232, 3049.8142713705815, 2820.1396858386533, 2758.5297852561025, 2504.189001875063, 2416.4708720665744, 2314.6609535053403, 2307.6219677450777, 2300.002820787217, 1973.2182888728566, 1946.5390015670198, 1871.765342569937, 1861.1254235372774, 1768.8676014437478, 1736.915658322478, 4435.114368476978, 2915.8219057435012, 7847.717790371367, 6284.237168773284, 3272.1595467099382, 4103.432846907915, 5110.299760614511, 3626.7815751015796, 3533.67553750537, 2622.4277721024255, 12720.827968183612, 12289.832164620495, 7880.85622784127, 7045.3370798225405, 6420.251229088153, 6380.099830243571, 6038.093603094022, 5984.0416411115, 5424.88794720641, 5146.016485145959, 4105.564378484172, 3779.2185545285724, 3718.7156344020286, 3683.2760134540135, 3440.614219751358, 3341.186342142638, 2980.8130085692223, 2940.621095035136, 2829.0889843959594, 2715.2217787716554, 2553.4251588455863, 2529.5483229583633, 2438.235725473757, 2327.5876936552168, 2272.6409204839783, 2254.347599090666, 1983.7909050460273, 1860.2685927872508, 1687.285893920017, 1648.522190268251, 5773.877189647575, 2655.2876741533814, 3008.8322702263395, 3253.214462532308, 9890.916622945437, 7829.801579477713, 7031.030716179382, 5453.374358876494, 5247.596442201657, 4969.270088524482, 4854.425349745317, 4318.811547187746, 3971.145322821587, 3963.9600267316573, 3918.1820434123915, 3879.9390296968295, 3719.693507686443, 3340.695590260119, 2898.2979508517433, 2746.481582006114, 2646.5706549225365, 2330.8834282146104, 2312.8012645868853, 2253.9890182480267, 2224.002041351227, 2217.304266697783, 1824.3772575367286, 1720.0743364975476, 1690.2707984120943, 1680.5220900932661, 1671.4145574087047, 1660.4315618006347, 1641.0753263817928, 1544.6353282725802, 3293.9543918927625, 4306.92092730853, 5171.302240584977, 3122.3249110108172, 2905.8165765519743, 1956.03557196222], \"Total\": [48271.0, 41452.0, 36053.0, 44439.0, 31246.0, 45293.0, 22770.0, 23458.0, 33433.0, 20055.0, 28649.0, 48830.0, 33525.0, 15711.0, 15161.0, 24352.0, 13661.0, 12721.0, 22008.0, 12290.0, 35909.0, 22102.0, 23374.0, 9892.0, 11435.0, 13876.0, 11219.0, 24199.0, 15214.0, 15574.0, 24199.756726032654, 19912.442003491895, 10127.648121627812, 9462.956124822145, 8585.835412291213, 7264.23183140733, 6731.126554628419, 6341.676017781958, 6175.0131802288515, 5955.088512664319, 5930.437236724856, 5904.039473749009, 5754.186823626267, 5604.189791728413, 5602.360230821642, 5342.708537520342, 5306.5348833540675, 5282.681707026761, 5226.104264095442, 5102.423781749666, 4764.426932158108, 4598.116399429929, 4460.664155652106, 4416.099729086951, 4361.769772920571, 4213.030613579361, 4061.0226346532068, 3975.5740919756004, 3865.8000290666037, 3811.3569480431397, 14642.321613130334, 20021.221481174885, 35130.968193087596, 29123.2585788535, 33268.44355789905, 30922.120693405563, 48231.019454975154, 8827.96165284905, 29966.909659372937, 44439.30684851737, 45293.20628124949, 31600.89710005336, 7832.995221492677, 8893.41459298261, 35909.637753397255, 12648.685118343787, 24352.85002812822, 22008.833910900124, 48830.37773234016, 16430.21236179771, 20987.226710793937, 15451.022854834062, 21581.6762750082, 24566.034783675994, 32398.644705932464, 23174.605683374237, 22102.66339067942, 24499.163760745483, 7104.651332654071, 7082.782845516997, 6430.050407725676, 6019.026055202937, 5910.675466578103, 5463.35387903553, 5445.2897786650565, 5295.135279434582, 4850.897895391841, 4564.594819989193, 4457.584095142204, 3852.291820934273, 3801.658988613688, 3544.23547657434, 3432.416117393323, 3364.241091194485, 3182.165932748841, 3148.9878982970117, 3139.741979405583, 3137.7575403286255, 3040.6355284027586, 3026.958432425607, 2998.220905641747, 2926.157178114413, 2806.6861629651025, 2771.535779297765, 2679.6583133913114, 2526.6934939669886, 2515.587086862432, 2425.368048139801, 8408.759081069127, 6674.961672022759, 24566.034783675994, 7552.544786265863, 24499.163760745483, 10712.81362563269, 23174.605683374237, 13547.32788338508, 8581.236327413131, 48231.019454975154, 22102.66339067942, 15451.022854834062, 13887.415941469555, 35130.968193087596, 29966.909659372937, 23374.5830714586, 10146.899126197863, 31600.89710005336, 35909.637753397255, 48830.37773234016, 31246.02520286245, 13876.876398775423, 12893.857711495637, 7651.782612511772, 5865.624512398314, 5717.863882969728, 5037.045450402241, 4965.5820306293745, 4656.166451785204, 4469.538634588637, 3986.780144326496, 3825.489841730383, 3528.645990477697, 3431.21535881949, 3296.864602222168, 3205.6480074628594, 2972.0780591551766, 2896.7412873367884, 2647.2176023498882, 2607.702065059017, 2525.050441610888, 2496.7219013318118, 2483.27254263153, 2419.434626582204, 2296.7327413522444, 2183.312943309043, 2182.9854857550863, 2174.3208295716854, 2162.9728576948623, 2137.9338187380704, 28649.707363139198, 33433.29417851986, 13571.0476586813, 33525.86406582194, 7845.94539832624, 21581.6762750082, 48830.37773234016, 11789.51468747091, 32398.644705932464, 6288.979419733884, 5155.850625058254, 48231.019454975154, 13330.237976309585, 16430.21236179771, 29966.909659372937, 24499.163760745483, 9418.69698546997, 23174.605683374237, 16230.041726107836, 41452.11796208713, 23458.299041707745, 11329.808638292672, 5436.239165805928, 5088.35269530896, 4908.39086738195, 4536.8530397349905, 4460.29933466627, 4271.960355346136, 3785.7417612054787, 3296.8121140297308, 3278.0944823545824, 3038.6723490700438, 2953.0454854455193, 2488.8177664955997, 2478.9878117893854, 2211.286340221969, 2191.670254166136, 2170.7234816514506, 2148.6007123219747, 2099.7093897523782, 2078.4470885925452, 1921.2817153472918, 1884.7135475748496, 1840.2322270054592, 1781.4787284116335, 1780.594472189113, 1758.9761175144486, 1729.0702775840668, 1671.3150426242817, 15214.973331188012, 8514.87410201895, 15574.579319557506, 22008.833910900124, 10098.962890127008, 23374.5830714586, 7891.783075627361, 8634.036965804233, 3811.611290566801, 4192.649454390142, 24062.015141778735, 33525.86406582194, 32398.644705932464, 28649.707363139198, 20987.226710793937, 10713.525718770848, 16230.041726107836, 31600.89710005336, 5550.894875043428, 20055.18301293066, 10235.988014352863, 6825.632752392283, 6689.933718044222, 6503.509876753076, 6231.13122943328, 6058.852084256725, 5571.297080805116, 5555.518629870225, 5541.512140618131, 4099.07471719485, 3970.3126689952383, 3711.637431213203, 3689.5994701663794, 3560.589060001161, 3324.630501325615, 3003.080383692609, 2982.7479164527854, 2981.3783475690384, 2930.491265984111, 2780.649749139849, 2627.644494386343, 2531.2920567687147, 2519.3294116964767, 2486.3362718166104, 2477.806623733498, 2325.0959476873004, 2294.201339389203, 2183.771735680102, 2176.98282351665, 3394.324374989625, 11763.781591489138, 7248.1197291382605, 12142.363617644069, 8939.294667360591, 13571.0476586813, 48271.60922184752, 22770.095950919997, 15161.585512023856, 10104.744275094785, 8535.063393129896, 8421.606239281957, 7828.097773249433, 4610.493705086989, 4350.2132071890555, 4205.931003827372, 3653.6045333404427, 3323.7435156910024, 3007.420036852051, 2920.342333576478, 2677.576655888544, 2594.8039889046872, 2375.603090884866, 2295.2256402133703, 2250.5752775934225, 2057.9538369636493, 1985.2530502369705, 1895.978074021373, 1795.4808651580288, 1773.8226441102502, 1734.2945866683708, 1656.6195414958618, 1654.415137061353, 1644.4638256097721, 1632.805083624435, 1453.218009538525, 12714.228251848697, 24352.85002812822, 45293.20628124949, 17408.129763715733, 11077.661017924504, 12382.001716445651, 48830.37773234016, 35909.637753397255, 7559.164379253722, 32398.644705932464, 13047.803055276227, 29123.2585788535, 15711.311447830849, 11435.971187918238, 11219.364502036338, 6932.71283220577, 6899.627313163053, 6188.805023998157, 5801.545663953291, 4666.052582367168, 4348.5691801805015, 3763.3728073884276, 3332.184537605279, 3271.5340318720832, 2843.4664042717113, 2705.8290458679444, 2669.6660228560536, 2652.393244521751, 2600.0822354107677, 2369.267838460198, 2364.699885982354, 2327.2318779154375, 2321.750593468815, 2286.2564727280346, 2205.0897444067464, 2183.3600085057556, 2143.3689231613057, 2072.072432517796, 1916.153573939779, 1777.617413803677, 1725.4721404038978, 1644.5259836069265, 12389.560996089394, 44439.30684851737, 7619.651292025552, 33525.86406582194, 45293.20628124949, 15214.973331188012, 6195.351144753598, 31600.89710005336, 20987.226710793937, 17408.129763715733, 35909.637753397255, 48830.37773234016, 33268.44355789905, 36053.71928932214, 13661.511476601232, 10031.04639472327, 9813.665915531372, 7220.991347997274, 6782.193742605143, 5296.200841816695, 5293.307326718979, 5102.157451908534, 4810.775127771425, 4627.568386075342, 4301.401421895505, 4138.340486015648, 3781.471615827013, 3357.2419704678487, 3246.3832375564507, 3050.799832666679, 2821.1252309721854, 2759.515348328027, 2505.1745314549125, 2417.456419120505, 2315.6464841209063, 2308.6075312611533, 2300.9883594872463, 1974.2038241348089, 1947.5245468185367, 1872.7508808404884, 1862.110957814058, 1769.8531465472784, 1737.901173562379, 5931.841124299207, 4013.5621561837784, 22102.66339067942, 18028.300880482584, 6983.322317623025, 14144.742222498024, 33433.29417851986, 35909.637753397255, 33268.44355789905, 5938.261948284929, 12721.805429861233, 12290.809616169689, 7881.833665727093, 7046.3145323041035, 6421.228705606408, 6381.077262126496, 6039.071054680213, 5985.019110821766, 5425.865407854772, 5146.99408786969, 4106.541844031021, 3780.1960056317403, 3719.693082813889, 3684.253467276968, 3441.591683164881, 3342.163804123972, 2981.7904730573223, 2941.598569568547, 2830.0664342880928, 2716.199249956285, 2554.402654885385, 2530.5257976713574, 2439.2132110092894, 2328.5651698007214, 2273.6183477865507, 2255.3250275237315, 1984.7683782841184, 1861.246055187072, 1688.2633701675695, 1649.4996490271026, 7727.27705378824, 4889.984474356882, 9618.602991038138, 30922.120693405563, 9892.118359323857, 7830.789362451852, 7032.16314676353, 5454.362140278035, 5248.584244816389, 4970.25790487084, 4855.413147655639, 4319.7993413511185, 3972.133118572596, 3964.9478243615017, 3919.1698237320234, 3880.9268303079043, 3720.681332794317, 3341.683373295712, 2899.2857449695857, 2747.4693850426056, 2647.5584514799584, 2331.8712288671204, 2313.7890572594956, 2254.9768218785634, 2224.989839770616, 2218.292080201865, 1825.3650529735098, 1721.0621479267386, 1691.258591134539, 1681.509881403244, 1672.4023746441983, 1661.4193822836353, 1642.063126058226, 1545.6231189130135, 4784.8071568357645, 7718.877181559446, 33433.29417851986, 9184.828537738835, 8588.939658783118, 8836.69537811833], \"Category\": [\"Default\", \"Default\", \"Default\", \"Default\", \"Default\", \"Default\", \"Default\", \"Default\", \"Default\", \"Default\", \"Default\", \"Default\", \"Default\", \"Default\", \"Default\", \"Default\", \"Default\", \"Default\", \"Default\", \"Default\", \"Default\", \"Default\", \"Default\", \"Default\", \"Default\", \"Default\", \"Default\", \"Default\", \"Default\", \"Default\", \"Topic1\", \"Topic1\", \"Topic1\", \"Topic1\", \"Topic1\", \"Topic1\", \"Topic1\", \"Topic1\", \"Topic1\", \"Topic1\", \"Topic1\", \"Topic1\", \"Topic1\", \"Topic1\", \"Topic1\", \"Topic1\", \"Topic1\", \"Topic1\", \"Topic1\", \"Topic1\", \"Topic1\", \"Topic1\", \"Topic1\", \"Topic1\", \"Topic1\", \"Topic1\", \"Topic1\", \"Topic1\", \"Topic1\", \"Topic1\", \"Topic1\", \"Topic1\", \"Topic1\", \"Topic1\", \"Topic1\", \"Topic1\", \"Topic1\", \"Topic1\", \"Topic1\", \"Topic1\", \"Topic1\", \"Topic1\", \"Topic1\", \"Topic1\", \"Topic1\", \"Topic1\", \"Topic1\", \"Topic1\", \"Topic1\", \"Topic1\", \"Topic1\", \"Topic1\", \"Topic1\", \"Topic1\", \"Topic1\", \"Topic1\", \"Topic1\", \"Topic1\", \"Topic2\", \"Topic2\", \"Topic2\", \"Topic2\", \"Topic2\", \"Topic2\", \"Topic2\", \"Topic2\", \"Topic2\", \"Topic2\", \"Topic2\", \"Topic2\", \"Topic2\", \"Topic2\", \"Topic2\", \"Topic2\", \"Topic2\", \"Topic2\", \"Topic2\", \"Topic2\", \"Topic2\", \"Topic2\", \"Topic2\", \"Topic2\", \"Topic2\", \"Topic2\", \"Topic2\", \"Topic2\", \"Topic2\", \"Topic2\", \"Topic2\", \"Topic2\", \"Topic2\", \"Topic2\", \"Topic2\", \"Topic2\", \"Topic2\", \"Topic2\", \"Topic2\", \"Topic2\", \"Topic2\", \"Topic2\", \"Topic2\", \"Topic2\", \"Topic2\", \"Topic2\", \"Topic2\", \"Topic2\", \"Topic2\", \"Topic2\", \"Topic3\", \"Topic3\", \"Topic3\", \"Topic3\", \"Topic3\", \"Topic3\", \"Topic3\", \"Topic3\", \"Topic3\", \"Topic3\", \"Topic3\", \"Topic3\", \"Topic3\", \"Topic3\", \"Topic3\", \"Topic3\", \"Topic3\", \"Topic3\", \"Topic3\", \"Topic3\", \"Topic3\", \"Topic3\", \"Topic3\", \"Topic3\", \"Topic3\", \"Topic3\", \"Topic3\", \"Topic3\", \"Topic3\", \"Topic3\", \"Topic3\", \"Topic3\", \"Topic3\", \"Topic3\", \"Topic3\", \"Topic3\", \"Topic3\", \"Topic3\", \"Topic3\", \"Topic3\", \"Topic3\", \"Topic3\", \"Topic3\", \"Topic3\", \"Topic3\", \"Topic3\", \"Topic3\", \"Topic3\", \"Topic3\", \"Topic4\", \"Topic4\", \"Topic4\", \"Topic4\", \"Topic4\", \"Topic4\", \"Topic4\", \"Topic4\", \"Topic4\", \"Topic4\", \"Topic4\", \"Topic4\", \"Topic4\", \"Topic4\", \"Topic4\", \"Topic4\", \"Topic4\", \"Topic4\", \"Topic4\", \"Topic4\", \"Topic4\", \"Topic4\", \"Topic4\", \"Topic4\", \"Topic4\", \"Topic4\", \"Topic4\", \"Topic4\", \"Topic4\", \"Topic4\", \"Topic4\", \"Topic4\", \"Topic4\", \"Topic4\", \"Topic4\", \"Topic4\", \"Topic4\", \"Topic4\", \"Topic4\", \"Topic4\", \"Topic4\", \"Topic4\", \"Topic4\", \"Topic4\", \"Topic4\", \"Topic4\", \"Topic4\", \"Topic4\", \"Topic4\", \"Topic5\", \"Topic5\", \"Topic5\", \"Topic5\", \"Topic5\", \"Topic5\", \"Topic5\", \"Topic5\", \"Topic5\", \"Topic5\", \"Topic5\", \"Topic5\", \"Topic5\", \"Topic5\", \"Topic5\", \"Topic5\", \"Topic5\", \"Topic5\", \"Topic5\", \"Topic5\", \"Topic5\", \"Topic5\", \"Topic5\", \"Topic5\", \"Topic5\", \"Topic5\", \"Topic5\", \"Topic5\", \"Topic5\", \"Topic5\", \"Topic5\", \"Topic5\", \"Topic5\", \"Topic5\", \"Topic5\", \"Topic5\", \"Topic6\", \"Topic6\", \"Topic6\", \"Topic6\", \"Topic6\", \"Topic6\", \"Topic6\", \"Topic6\", \"Topic6\", \"Topic6\", \"Topic6\", \"Topic6\", \"Topic6\", \"Topic6\", \"Topic6\", \"Topic6\", \"Topic6\", \"Topic6\", \"Topic6\", \"Topic6\", \"Topic6\", \"Topic6\", \"Topic6\", \"Topic6\", \"Topic6\", \"Topic6\", \"Topic6\", \"Topic6\", \"Topic6\", \"Topic6\", \"Topic6\", \"Topic6\", \"Topic6\", \"Topic6\", \"Topic6\", \"Topic6\", \"Topic6\", \"Topic6\", \"Topic6\", \"Topic6\", \"Topic6\", \"Topic6\", \"Topic7\", \"Topic7\", \"Topic7\", \"Topic7\", \"Topic7\", \"Topic7\", \"Topic7\", \"Topic7\", \"Topic7\", \"Topic7\", \"Topic7\", \"Topic7\", \"Topic7\", \"Topic7\", \"Topic7\", \"Topic7\", \"Topic7\", \"Topic7\", \"Topic7\", \"Topic7\", \"Topic7\", \"Topic7\", \"Topic7\", \"Topic7\", \"Topic7\", \"Topic7\", \"Topic7\", \"Topic7\", \"Topic7\", \"Topic7\", \"Topic7\", \"Topic7\", \"Topic7\", \"Topic7\", \"Topic7\", \"Topic7\", \"Topic7\", \"Topic7\", \"Topic7\", \"Topic7\", \"Topic7\", \"Topic7\", \"Topic7\", \"Topic8\", \"Topic8\", \"Topic8\", \"Topic8\", \"Topic8\", \"Topic8\", \"Topic8\", \"Topic8\", \"Topic8\", \"Topic8\", \"Topic8\", \"Topic8\", \"Topic8\", \"Topic8\", \"Topic8\", \"Topic8\", \"Topic8\", \"Topic8\", \"Topic8\", \"Topic8\", \"Topic8\", \"Topic8\", \"Topic8\", \"Topic8\", \"Topic8\", \"Topic8\", \"Topic8\", \"Topic8\", \"Topic8\", \"Topic8\", \"Topic8\", \"Topic8\", \"Topic8\", \"Topic8\", \"Topic8\", \"Topic8\", \"Topic8\", \"Topic8\", \"Topic8\", \"Topic8\", \"Topic9\", \"Topic9\", \"Topic9\", \"Topic9\", \"Topic9\", \"Topic9\", \"Topic9\", \"Topic9\", \"Topic9\", \"Topic9\", \"Topic9\", \"Topic9\", \"Topic9\", \"Topic9\", \"Topic9\", \"Topic9\", \"Topic9\", \"Topic9\", \"Topic9\", \"Topic9\", \"Topic9\", \"Topic9\", \"Topic9\", \"Topic9\", \"Topic9\", \"Topic9\", \"Topic9\", \"Topic9\", \"Topic9\", \"Topic9\", \"Topic9\", \"Topic9\", \"Topic9\", \"Topic9\", \"Topic10\", \"Topic10\", \"Topic10\", \"Topic10\", \"Topic10\", \"Topic10\", \"Topic10\", \"Topic10\", \"Topic10\", \"Topic10\", \"Topic10\", \"Topic10\", \"Topic10\", \"Topic10\", \"Topic10\", \"Topic10\", \"Topic10\", \"Topic10\", \"Topic10\", \"Topic10\", \"Topic10\", \"Topic10\", \"Topic10\", \"Topic10\", \"Topic10\", \"Topic10\", \"Topic10\", \"Topic10\", \"Topic10\", \"Topic10\", \"Topic10\", \"Topic10\", \"Topic10\", \"Topic10\", \"Topic10\", \"Topic10\"], \"logprob\": [30.0, 29.0, 28.0, 27.0, 26.0, 25.0, 24.0, 23.0, 22.0, 21.0, 20.0, 19.0, 18.0, 17.0, 16.0, 15.0, 14.0, 13.0, 12.0, 11.0, 10.0, 9.0, 8.0, 7.0, 6.0, 5.0, 4.0, 3.0, 2.0, 1.0, -4.2028, -4.3978, -5.0739, -5.1418, -5.2391, -5.4063, -5.4825, -5.5421, -5.5687, -5.605, -5.6092, -5.6136, -5.6393, -5.6657, -5.6661, -5.7135, -5.7203, -5.7248, -5.7356, -5.7596, -5.8281, -5.8637, -5.894, -5.9041, -5.9164, -5.9511, -5.9879, -6.0092, -6.0372, -6.0514, -4.8404, -4.5832, -4.1266, -4.2916, -4.2119, -4.3316, -4.0204, -5.3878, -4.4912, -4.2291, -4.2163, -4.4963, -5.483, -5.4064, -4.6665, -5.2589, -4.9901, -5.0406, -4.6959, -5.2011, -5.1395, -5.261, -5.1782, -5.14, -5.137, -5.2368, -5.3116, -5.3811, -4.6806, -4.6837, -4.7804, -4.8465, -4.8647, -4.9434, -4.9467, -4.9747, -5.0623, -5.1231, -5.1469, -5.2928, -5.3061, -5.3762, -5.4083, -5.4283, -5.484, -5.4945, -5.4974, -5.4981, -5.5295, -5.534, -5.5436, -5.5679, -5.6096, -5.6222, -5.6559, -5.7147, -5.7191, -5.7557, -4.7107, -4.9221, -4.1861, -5.0642, -4.4933, -4.9447, -4.6002, -4.8651, -5.0856, -4.4571, -4.8055, -4.9411, -4.9843, -4.7289, -4.8487, -4.9403, -5.1551, -4.9733, -5.0576, -5.0667, -2.9574, -3.7691, -3.8425, -4.3644, -4.6303, -4.6558, -4.7826, -4.7969, -4.8612, -4.9022, -5.0165, -5.0578, -5.1386, -5.1666, -5.2065, -5.2346, -5.3103, -5.336, -5.4261, -5.4411, -5.4733, -5.4846, -5.49, -5.5161, -5.5682, -5.6188, -5.619, -5.623, -5.6282, -5.6398, -3.2865, -3.2572, -4.0665, -3.3698, -4.6707, -4.1122, -3.7303, -4.6259, -4.1565, -5.0656, -5.1736, -4.3948, -4.8751, -4.8149, -4.637, -4.8127, -5.0749, -5.0164, -5.0993, -2.4279, -2.9972, -3.725, -4.4595, -4.5256, -4.5616, -4.6404, -4.6574, -4.7005, -4.8214, -4.9597, -4.9654, -5.0413, -5.0699, -5.241, -5.2449, -5.3593, -5.3682, -5.3778, -5.388, -5.4111, -5.4212, -5.4999, -5.5191, -5.543, -5.5755, -5.576, -5.5882, -5.6054, -5.6394, -3.7032, -4.2387, -3.8903, -3.7067, -4.3154, -3.7372, -4.5764, -4.5396, -5.0788, -5.0307, -4.165, -4.1747, -4.2829, -4.3333, -4.519, -4.7678, -4.6477, -4.5929, -5.0284, -3.0771, -3.7497, -4.155, -4.1751, -4.2033, -4.2461, -4.2742, -4.3581, -4.3609, -4.3634, -4.665, -4.6969, -4.7643, -4.7703, -4.8059, -4.8745, -4.9762, -4.983, -4.9835, -5.0007, -5.0532, -5.1098, -5.1472, -5.1519, -5.1651, -5.1685, -5.2322, -5.2456, -5.2949, -5.298, -5.0669, -4.4847, -4.8078, -4.807, -4.9491, -4.8926, -2.021, -2.7724, -3.1791, -3.5849, -3.7538, -3.7672, -3.8403, -4.3697, -4.4279, -4.4616, -4.6024, -4.6971, -4.7971, -4.8265, -4.9133, -4.9447, -5.033, -5.0674, -5.0871, -5.1766, -5.2126, -5.2586, -5.3131, -5.3253, -5.3478, -5.3937, -5.395, -5.401, -5.4082, -5.5247, -3.7897, -3.5076, -3.1279, -3.9193, -4.2217, -4.1582, -3.3914, -3.659, -4.6285, -4.1413, -4.6631, -4.843, -3.1253, -3.443, -3.4621, -3.9435, -3.9483, -4.0571, -4.1217, -4.3395, -4.41, -4.5546, -4.6763, -4.6947, -4.835, -4.8846, -4.8981, -4.9046, -4.9245, -5.0175, -5.0194, -5.0354, -5.0378, -5.0532, -5.0893, -5.0992, -5.1177, -5.1516, -5.2298, -5.3049, -5.3347, -5.3828, -3.6441, -2.8415, -4.6007, -4.1543, -4.1822, -4.5891, -4.8833, -4.627, -4.8157, -4.8625, -4.8476, -4.9487, -4.9797, -2.2703, -3.2408, -3.5497, -3.5716, -3.8785, -3.9412, -4.1885, -4.1891, -4.2258, -4.2847, -4.3235, -4.3966, -4.4353, -4.5255, -4.6445, -4.6781, -4.7402, -4.8185, -4.8406, -4.9374, -4.973, -5.0161, -5.0191, -5.0224, -5.1757, -5.1893, -5.2284, -5.2341, -5.285, -5.3032, -4.3658, -4.7852, -3.7951, -4.0173, -4.6699, -4.4435, -4.2241, -4.567, -4.593, -4.8912, -3.12, -3.1545, -3.5989, -3.7109, -3.8038, -3.8101, -3.8652, -3.8742, -3.9723, -4.0251, -4.2509, -4.3338, -4.3499, -4.3595, -4.4276, -4.457, -4.5711, -4.5847, -4.6233, -4.6644, -4.7259, -4.7352, -4.772, -4.8185, -4.8423, -4.8504, -4.9783, -5.0426, -5.1402, -5.1634, -3.9099, -4.6867, -4.5617, -4.4836, -3.1504, -3.3841, -3.4917, -3.7458, -3.7843, -3.8388, -3.8621, -3.979, -4.063, -4.0648, -4.0764, -4.0862, -4.1284, -4.2358, -4.3779, -4.4317, -4.4688, -4.5958, -4.6036, -4.6293, -4.6427, -4.6457, -4.8408, -4.8997, -4.9171, -4.9229, -4.9284, -4.9349, -4.9467, -5.0072, -4.2499, -3.9818, -3.7989, -4.3034, -4.3753, -4.7711], \"loglift\": [30.0, 29.0, 28.0, 27.0, 26.0, 25.0, 24.0, 23.0, 22.0, 21.0, 20.0, 19.0, 18.0, 17.0, 16.0, 15.0, 14.0, 13.0, 12.0, 11.0, 10.0, 9.0, 8.0, 7.0, 6.0, 5.0, 4.0, 3.0, 2.0, 1.0, 1.2198, 1.2198, 1.2198, 1.2198, 1.2198, 1.2197, 1.2197, 1.2197, 1.2197, 1.2197, 1.2197, 1.2197, 1.2197, 1.2197, 1.2197, 1.2197, 1.2197, 1.2197, 1.2197, 1.2197, 1.2197, 1.2197, 1.2197, 1.2197, 1.2197, 1.2196, 1.2196, 1.2196, 1.2196, 1.2196, 1.0846, 1.029, 0.9233, 0.9458, 0.8924, 0.8459, 0.7125, 1.0433, 0.7177, 0.5858, 0.5795, 0.6594, 1.0677, 1.0173, 0.3615, 0.8125, 0.4262, 0.4769, 0.0247, 0.6088, 0.4256, 0.6103, 0.3589, 0.2676, -0.0061, 0.2291, 0.2016, 0.0292, 1.9676, 1.9676, 1.9676, 1.9676, 1.9675, 1.9675, 1.9675, 1.9675, 1.9675, 1.9675, 1.9675, 1.9675, 1.9675, 1.9674, 1.9674, 1.9674, 1.9674, 1.9674, 1.9674, 1.9674, 1.9674, 1.9674, 1.9674, 1.9674, 1.9674, 1.9674, 1.9674, 1.9673, 1.9673, 1.9673, 1.769, 1.7885, 1.2215, 1.5229, 0.917, 1.2928, 0.8657, 1.1376, 1.3738, 0.2758, 0.7078, 0.9302, 0.9937, 0.321, 0.3602, 0.517, 1.1367, 0.1825, -0.0296, -0.3461, 2.2097, 2.2097, 2.2097, 2.2096, 2.2096, 2.2096, 2.2096, 2.2096, 2.2095, 2.2095, 2.2095, 2.2095, 2.2095, 2.2095, 2.2095, 2.2094, 2.2094, 2.2094, 2.2094, 2.2094, 2.2094, 2.2094, 2.2094, 2.2093, 2.2093, 2.2093, 2.2093, 2.2093, 2.2093, 2.2093, 1.9674, 1.8422, 1.9346, 1.7268, 1.8783, 1.4249, 0.9903, 1.5158, 0.9744, 1.7046, 1.7952, 0.3382, 1.1438, 0.9949, 0.5719, 0.5976, 1.2914, 0.4495, 0.7228, 2.4566, 2.4565, 2.4565, 2.4564, 2.4564, 2.4564, 2.4564, 2.4564, 2.4564, 2.4563, 2.4563, 2.4563, 2.4563, 2.4563, 2.4562, 2.4562, 2.4561, 2.4561, 2.4561, 2.4561, 2.4561, 2.4561, 2.4561, 2.4561, 2.4561, 2.456, 2.456, 2.456, 2.456, 2.456, 2.1835, 2.2284, 1.973, 1.8108, 1.9812, 1.7202, 1.9668, 1.9137, 2.1921, 2.1449, 1.2633, 0.922, 0.848, 0.9205, 1.0461, 1.4697, 1.1744, 0.5629, 1.8666, 2.5334, 2.5333, 2.5333, 2.5333, 2.5333, 2.5333, 2.5333, 2.5333, 2.5333, 2.5333, 2.5332, 2.5332, 2.5332, 2.5332, 2.5332, 2.5332, 2.5331, 2.5331, 2.5331, 2.5331, 2.5331, 2.5331, 2.5331, 2.5331, 2.5331, 2.5331, 2.533, 2.533, 2.533, 2.533, 2.3199, 1.6592, 1.8204, 1.3052, 1.4694, 1.1084, 2.7111, 2.7111, 2.7111, 2.711, 2.711, 2.711, 2.711, 2.7109, 2.7109, 2.7109, 2.7109, 2.7108, 2.7108, 2.7108, 2.7108, 2.7107, 2.7107, 2.7107, 2.7107, 2.7106, 2.7106, 2.7106, 2.7106, 2.7106, 2.7106, 2.7105, 2.7105, 2.7105, 2.7105, 2.7104, 2.2765, 1.9087, 1.6679, 1.8328, 1.9823, 1.9345, 1.3292, 1.369, 1.9577, 0.9896, 1.3772, 0.3944, 2.7293, 2.7292, 2.7292, 2.7292, 2.7292, 2.7292, 2.7291, 2.7291, 2.7291, 2.7291, 2.729, 2.729, 2.729, 2.729, 2.729, 2.729, 2.7289, 2.7289, 2.7289, 2.7289, 2.7289, 2.7289, 2.7289, 2.7289, 2.7289, 2.7288, 2.7288, 2.7288, 2.7288, 2.7287, 2.448, 1.9734, 1.9776, 0.9423, 0.6136, 1.2976, 1.9019, 0.5288, 0.7493, 0.8895, 0.1804, -0.2281, 0.1247, 2.7536, 2.7536, 2.7536, 2.7536, 2.7535, 2.7535, 2.7535, 2.7535, 2.7535, 2.7534, 2.7534, 2.7534, 2.7534, 2.7534, 2.7534, 2.7533, 2.7533, 2.7533, 2.7533, 2.7533, 2.7532, 2.7532, 2.7532, 2.7532, 2.7532, 2.7531, 2.7531, 2.7531, 2.7531, 2.7531, 2.4629, 2.4341, 1.7182, 1.6998, 1.9956, 1.5161, 0.8754, 0.461, 0.5114, 1.9363, 2.9456, 2.9456, 2.9456, 2.9455, 2.9455, 2.9455, 2.9455, 2.9455, 2.9455, 2.9455, 2.9454, 2.9454, 2.9454, 2.9454, 2.9454, 2.9454, 2.9454, 2.9453, 2.9453, 2.9453, 2.9453, 2.9453, 2.9453, 2.9453, 2.9453, 2.9452, 2.9452, 2.9452, 2.9451, 2.9451, 2.6543, 2.335, 1.7835, 0.6939, 3.1668, 3.1668, 3.1668, 3.1668, 3.1668, 3.1667, 3.1667, 3.1667, 3.1667, 3.1667, 3.1667, 3.1667, 3.1667, 3.1666, 3.1666, 3.1666, 3.1666, 3.1665, 3.1665, 3.1665, 3.1665, 3.1665, 3.1664, 3.1664, 3.1664, 3.1664, 3.1664, 3.1663, 3.1663, 3.1663, 2.7936, 2.5835, 1.3005, 2.088, 2.0832, 1.659]}, \"token.table\": {\"Topic\": [10, 10, 1, 5, 10, 8, 8, 1, 2, 5, 3, 2, 3, 2, 7, 7, 1, 2, 4, 10, 9, 1, 3, 7, 8, 1, 2, 3, 4, 6, 7, 9, 7, 10, 1, 6, 5, 8, 4, 1, 6, 2, 6, 10, 6, 6, 9, 9, 8, 2, 10, 4, 8, 4, 3, 4, 1, 8, 3, 5, 9, 4, 4, 4, 2, 7, 1, 9, 2, 9, 6, 8, 9, 2, 4, 10, 6, 4, 5, 8, 3, 4, 9, 6, 1, 1, 6, 7, 1, 2, 6, 7, 9, 8, 1, 3, 3, 4, 5, 6, 10, 4, 1, 6, 2, 2, 9, 2, 7, 1, 2, 3, 4, 6, 3, 6, 8, 3, 3, 8, 2, 10, 10, 4, 4, 7, 4, 10, 1, 2, 3, 7, 2, 1, 9, 7, 8, 6, 10, 10, 8, 8, 3, 10, 1, 2, 7, 1, 2, 3, 4, 6, 7, 4, 10, 7, 1, 2, 3, 6, 7, 4, 1, 2, 6, 7, 8, 1, 7, 1, 3, 8, 1, 2, 4, 7, 4, 1, 2, 7, 9, 1, 1, 2, 1, 4, 8, 6, 5, 1, 2, 4, 4, 9, 3, 5, 6, 5, 7, 8, 7, 1, 5, 9, 8, 9, 7, 2, 1, 6, 8, 1, 4, 8, 8, 1, 1, 3, 5, 9, 2, 8, 1, 3, 4, 5, 6, 10, 9, 3, 5, 4, 7, 3, 3, 5, 10, 7, 9, 3, 4, 1, 1, 1, 1, 7, 6, 3, 5, 4, 6, 1, 2, 8, 10, 4, 1, 2, 3, 4, 5, 6, 4, 7, 4, 1, 10, 7, 1, 3, 4, 5, 8, 6, 1, 5, 1, 2, 3, 3, 2, 4, 5, 7, 2, 6, 4, 2, 8, 1, 8, 9, 1, 7, 2, 5, 9, 6, 1, 7, 5, 8, 1, 2, 8, 1, 2, 5, 9, 5, 1, 3, 4, 5, 1, 3, 5, 7, 10, 1, 2, 9, 1, 1, 3, 6, 8, 10, 1, 2, 4, 6, 3, 4, 1, 2, 3, 3, 3, 10, 1, 4, 7, 8, 5, 3, 2, 3, 4, 5, 1, 10, 2, 1, 4, 6, 7, 10, 4, 7, 5, 2, 7, 4, 3, 4, 7, 8, 8, 5, 1, 1, 2, 3, 4, 9, 3, 8, 10, 7, 1, 4, 9, 5, 10, 1, 4, 4, 9, 5, 7, 8, 1, 2, 3, 9, 2, 3, 7, 2, 7, 7, 4, 7, 6, 1, 1, 3, 7, 10, 4, 2, 3, 4, 9, 2, 3, 5, 9, 5, 4, 6, 1, 8, 3, 1, 4, 6, 8, 7, 1, 3, 4, 9, 7, 5, 6, 5, 9, 7, 8, 1, 10, 6, 9, 6, 6, 3, 9, 10, 10, 6, 2, 2, 1, 3, 10, 2, 4, 1, 2, 3, 4, 7, 9, 1, 2, 4, 3, 5, 2, 1, 1, 2, 6, 1, 6, 1, 7, 2, 1, 6, 7, 1, 3, 6, 8, 5, 8, 3, 2, 8, 1, 9, 3, 1, 1, 3, 2, 8, 2, 3, 3, 1, 5, 10, 9, 1, 2, 5, 3, 3, 8, 3, 5, 3, 10, 2, 2, 4, 6, 1, 9, 4, 1, 2, 4, 7, 1, 2, 10, 6, 2, 5, 1, 7, 6, 9, 10, 7, 3, 4, 1, 2, 3, 4, 6, 2, 4, 8, 2, 4, 2, 3, 1], \"Freq\": [0.9993525668767813, 0.9997469135616469, 0.9996439724587233, 0.999489566300633, 0.9997147329813048, 0.9996760812648989, 0.9998956843900334, 0.3589518601637284, 0.6409760070278898, 0.9998604294028051, 0.9998794876534977, 0.3392262746130739, 0.660608742900017, 0.9994359420456412, 0.9994706681671356, 0.9996445162049368, 0.4907207558826102, 0.5092032952900207, 0.9993303959210277, 0.9997502658893922, 0.9998086494559312, 0.7207731241850229, 0.09907286447782791, 0.07391388766716592, 0.10622679097835068, 0.2959436255875282, 0.1129996795355272, 0.08939400907720449, 0.30321649940831424, 0.053237436368153854, 0.09903576179961798, 0.04613079966327149, 0.9996352188691664, 0.9994175337804266, 0.5174377506880907, 0.4825025780578933, 0.9997671851300867, 0.9997530227061671, 0.9999286273653432, 0.9997937460734861, 0.9996901542821249, 0.9998366408256435, 0.9991098462690541, 0.9991456809167085, 0.9997786450071282, 0.9999280138177051, 0.9996836127994532, 0.9996128624919032, 0.9997208191641775, 0.9997543293531039, 0.9997015123649555, 0.9996661223889446, 0.9994814586835615, 0.9996661383608688, 0.9998719532005969, 0.9994182841911645, 0.99972095972217, 0.9993975406923634, 0.7594107882605016, 0.24051201366992792, 0.9998134439928735, 0.9997204169585676, 0.9996667094369385, 0.9997751956323907, 0.9997255330064194, 0.9995837687762223, 0.9997930495471602, 0.9997572883902709, 0.99963109326566, 0.9998226457893085, 0.9992535370413295, 0.9999625607604175, 0.9998297230463437, 0.9996646617145531, 0.9996714237150632, 0.9997609490960567, 0.9999613818737235, 0.9992131689174432, 0.8078190818190089, 0.1920853542472625, 0.999804317193762, 0.9993037645266567, 0.9997348998648748, 0.9993688208982624, 0.9997876960323204, 0.5270989174790077, 0.3523265697046999, 0.12054788009698342, 0.6654446625280619, 0.15558929498101767, 0.0811942103381632, 0.0977176669697855, 0.999813672042704, 0.999773263542573, 0.9997576507991762, 0.9995502219589112, 0.9999368446651654, 0.9996015261613278, 0.9997663319013659, 0.9991752264327816, 0.9993828532409372, 0.999621402639267, 0.5291590180229551, 0.4706869465314185, 0.9998689659847717, 0.999683367827143, 0.9994508873208763, 0.9995874284046893, 0.999652673404928, 0.34282958849810297, 0.21912587046016604, 0.34440495422205486, 0.09362173445199837, 0.9995365119729523, 0.9997108603359363, 0.9997461314614465, 0.9996300622717178, 0.9994070405678905, 0.9997440961193086, 0.9998771739220426, 0.9998696883266422, 0.9998869444053101, 0.999834596163477, 0.9999446233631247, 0.24512571518543635, 0.7548290050754695, 0.9998040644998346, 0.9991614609824405, 0.40939845564079325, 0.19132158118898066, 0.3992059629692382, 0.9996767122743818, 0.9997585727007618, 0.9998304250971171, 0.9994124893274535, 0.9998691109289245, 0.9995179563067463, 0.9997846351523585, 0.999708954189342, 0.999465186017866, 0.9997731446119716, 0.9998239887195136, 0.9996457934893634, 0.9997890692537321, 0.5024195014255817, 0.43560105851335246, 0.06189082912814148, 0.6021021394148542, 0.18417607797596938, 0.15388436910251543, 0.05245586820659715, 0.0073811419294658445, 0.9999165284301567, 0.3114023096774814, 0.6884289987098146, 0.9994648817497045, 0.302639477437681, 0.09887287840500229, 0.29541037095943623, 0.25111417460690516, 0.051955362989538276, 0.9997341585008037, 0.4238416467612543, 0.1357017309242833, 0.26129475503027916, 0.07816842985931936, 0.10100352515131861, 0.528370636096361, 0.47154388859767143, 0.5242230564093291, 0.18565202240470643, 0.29007244780141295, 0.5709648034001393, 0.16774840230694113, 0.15053370114584397, 0.11075634938205885, 0.9993328852624509, 0.7433327728536163, 0.1926790051101374, 0.015029474767048686, 0.048931187735902826, 0.999899202894954, 0.8165592556238315, 0.18328168365007508, 0.38731871716509225, 0.17092543387937767, 0.4415433375682052, 0.9991446300087252, 0.9995485386903226, 0.3776534547269648, 0.24949769759890683, 0.37270643715392254, 0.9998119754535756, 0.9996970905526429, 0.999680963597091, 0.9998375243244622, 0.9998597650053396, 0.9999410121099419, 0.25219825828978837, 0.7476599435262108, 0.999869922546431, 0.9998934007697552, 0.9998103544663494, 0.9995026219914628, 0.999573914274677, 0.9998405032580575, 0.9994747217349356, 0.9997666203386486, 0.4521852673211075, 0.448243223581294, 0.09953660443029101, 0.3833811416339202, 0.6165816618841962, 0.9998132467977251, 0.9999321440594062, 0.9997005028771715, 0.9998989612960756, 0.9997978544552144, 0.9999066460028707, 0.9998942294696325, 0.9997636814074373, 0.9996741941153477, 0.2934690659532127, 0.2907220374645888, 0.20016269380590918, 0.03685339343165082, 0.17880377566964253, 0.9997955002855229, 0.999831178642376, 0.9993986463035147, 0.9996402415005354, 0.999778735910685, 0.9999059450731067, 0.9997494823698244, 0.9998827870276266, 0.9998593653971287, 0.9996967716878247, 0.9994504235447673, 0.9993305263516346, 0.7847549615437502, 0.21522034839117396, 0.9999687300148832, 0.9998172130167329, 0.9998555952015185, 0.9998511083486828, 0.9997744169512479, 0.9998754088773667, 0.999848915086576, 0.999903476405846, 0.9999730300370139, 0.9991618535343423, 0.3712926449999061, 0.32342407174938487, 0.08385487654523939, 0.2213497146052473, 0.9997086889087978, 0.37131160363920834, 0.33221708732344746, 0.171998611517244, 0.12444656187047959, 0.9994763583437176, 0.9999263439950065, 0.9997720545825647, 0.9998971784605792, 0.9997166347547437, 0.6600014333520016, 0.3399083594399454, 0.9993771029512049, 0.1907001676304379, 0.18964626908914112, 0.13872632904122315, 0.1323474694491637, 0.3485630754478394, 0.9994660044782105, 0.9998235182137879, 0.9998345610821033, 0.3760151111605899, 0.4360269457451128, 0.18793374028560303, 0.9998935301097105, 0.268365692067328, 0.2794403913231286, 0.3451055273145923, 0.10705542613940514, 0.9997521890279294, 0.9997443864245956, 0.9991699432678874, 0.9998066850510222, 0.9999800495112204, 0.9999026987764036, 0.25274103496037537, 0.7472231110400448, 0.9997509727690914, 0.999482434831444, 0.9998149011974269, 0.9998323605363327, 0.999792218015781, 0.9994841322087136, 0.8734953607719362, 0.12648267460122173, 0.2733232867241957, 0.7265366491228392, 0.3612234353334455, 0.2836762198823526, 0.35507033072355715, 0.3858579572759845, 0.47415059461448117, 0.07726114599744895, 0.06272888618654837, 0.9996693789369565, 0.37216806729732926, 0.21956186488485943, 0.11546351634230043, 0.29285896156435115, 0.5427197046298158, 0.296770357718401, 0.09062573064862574, 0.06981041843786012, 0.9998149586848938, 0.6461437285425597, 0.0409622894683457, 0.31283129190419345, 0.9998359225803606, 0.9999275827901147, 0.31260192508815016, 0.2188070277300474, 0.46854489184078213, 0.9998168795622695, 0.28672169165590117, 0.23439990280254885, 0.4788106793513646, 0.9998345378283484, 0.7179504462523633, 0.2819290586029163, 0.6052008767720061, 0.20038769657123381, 0.19438107119524348, 0.9995485605554791, 0.9995839918309839, 0.9996263820847673, 0.26761121152762934, 0.732233885374173, 0.9997505220314633, 0.9996108351518881, 0.9994723152556769, 0.9995632143848954, 0.2851974064553592, 0.16797319676774658, 0.129635184752436, 0.41721277820652847, 0.999936004724885, 0.9995968493836637, 0.99965141238992, 0.4188075652584586, 0.5810723326608647, 0.9995403506085418, 0.9996801609629951, 0.9998991975884786, 0.7676543532236448, 0.23218527088274973, 0.999528644102455, 0.9999083230656124, 0.999909080138016, 0.9997536668752597, 0.6169565073517785, 0.21553508615954128, 0.16745280566006984, 0.9997368408216093, 0.9993902229749067, 0.9997492525437165, 0.9997553747708268, 0.23555084235244306, 0.2609358664301848, 0.22606226539134544, 0.27744845490793907, 0.9998068604990178, 0.6924534530274912, 0.1528416545708816, 0.15466618312838137, 0.9996936074475177, 0.4455137515067158, 0.5543250357404628, 0.9992516747150392, 0.999828261454677, 0.9998886852550826, 0.38711150201719674, 0.6127892712782859, 0.9993810097843089, 0.999659777133115, 0.9994625538662016, 0.9999150760436277, 0.9997306597139463, 0.4227660485560004, 0.12102859697810972, 0.4562203544588317, 0.9997965155494909, 0.9998266576208803, 0.9998169296439937, 0.9998367640786002, 0.9998857209160066, 0.9995058049634893, 0.9991468187927084, 0.7610266379018288, 0.2389093901695438, 0.9995278222414394, 0.9998326350545816, 0.8262233158727977, 0.17376562180639965, 0.999361321727439, 0.9995551261615118, 0.9996621486021635, 0.5521348928317303, 0.20288451845083208, 0.15289172211803084, 0.09182825993064657, 0.8197404555826082, 0.1800503481433438, 0.9996744605790574, 0.9995584823328759, 0.9997378146852651, 0.796018815873376, 0.2038785282319535, 0.9997481829713333, 0.9996011410766769, 0.9997377501576543, 0.47571807040692937, 0.52424403976649, 0.999626020652091, 0.9997378285333195, 0.999484289925315, 0.6879864486311537, 0.11512793819342423, 0.0916496002360012, 0.10519977048966546, 0.9997040275653994, 0.9999075810708098, 0.9998929170890214, 0.9999072976212995, 0.9996231769420066, 0.9998783797392365, 0.9998627130335022, 0.9997572039701841, 0.9995565304413969, 0.9995069321914115, 0.9996517812434759, 0.9995362309118211, 0.9997763017250001, 0.45685216624206354, 0.5429465091193728, 0.9995668151135364, 0.9992521753545757, 0.9997211154646282, 0.9998894720431118, 0.9997855995409615, 0.49377457154016907, 0.16777391124484406, 0.33834211386364804, 0.8359598562772054, 0.16389607218051302, 0.30401037654737345, 0.34968540492499306, 0.1994761963194165, 0.08355387228685196, 0.06326746558115318, 0.9998680534494471, 0.543588607622327, 0.35434547288156215, 0.10206444031675316, 0.9997307725186768, 0.9995376810963418, 0.9996862806943316, 0.9998709543628468, 0.7602858018119368, 0.14108998101550213, 0.09861533839779074, 0.3524397951050191, 0.6475422524212502, 0.5304088130885507, 0.4695617794204228, 0.9996045400011087, 0.4256631872910826, 0.41543807968813895, 0.15883383439404095, 0.4878215875143933, 0.1657750343744906, 0.2634159931322812, 0.08292583781470127, 0.9996466042363801, 0.9995990492658845, 0.9997924476932887, 0.999592789964392, 0.9995311578334503, 0.9997887022455658, 0.9997280336046054, 0.9996372709149224, 0.9997572050524717, 0.5003598669136953, 0.49959647671158924, 0.9998295313571455, 0.9994033879617129, 0.9996336040377901, 0.9993925323467808, 0.9995400444796048, 0.509787384602062, 0.49019609674996656, 0.9997611832563639, 0.9998280786277537, 0.8381323221552643, 0.16175874524094033, 0.9999215997572481, 0.999933479063068, 0.9999671893350981, 0.9998388767400599, 0.9998977215439325, 0.9997547254251022, 0.4419036499439255, 0.5579827089734645, 0.9997555255823909, 0.34348242694484593, 0.19649488473002824, 0.4599417873150476, 0.9998673823369988, 0.9999366890284815, 0.9994450649416275, 0.45189391293525627, 0.1659580871735025, 0.24400555969437446, 0.13808398984461964, 0.8588030261453529, 0.14106991881828676, 0.999658976146931, 0.9999518688492856, 0.9997909882993795, 0.9998184552063457, 0.5626799706021579, 0.4371019392973734, 0.9999873792927698, 0.9999341283288106, 0.9992558257258017, 0.9993979741731206, 0.9994875541811526, 0.9996459636498415, 0.21321461188168814, 0.3775360385328237, 0.14185504404151492, 0.15632857899194358, 0.11103577558985583, 0.9997631386542347, 0.9996941811091965, 0.9995704630650689, 0.3782566627445007, 0.6216479918088941, 0.39640772112838146, 0.6034365429932642, 0.9998239385502704], \"Term\": [\"account\", \"actually\", \"ago\", \"ah\", \"almost\", \"alone\", \"already\", \"always\", \"always\", \"anymore\", \"anyone\", \"anything\", \"anything\", \"ass\", \"ate\", \"aw\", \"away\", \"away\", \"awful\", \"aww\", \"baby\", \"back\", \"back\", \"back\", \"back\", \"bad\", \"bad\", \"bad\", \"bad\", \"bad\", \"bad\", \"bad\", \"beach\", \"beautiful\", \"bed\", \"bed\", \"believe\", \"best\", \"better\", \"big\", \"birthday\", \"bit\", \"black\", \"body\", \"boo\", \"bored\", \"boring\", \"bout\", \"boy\", \"break\", \"broke\", \"broken\", \"brother\", \"bummed\", \"buy\", \"bye\", \"call\", \"called\", \"cant\", \"cant\", \"car\", \"care\", \"cat\", \"cause\", \"change\", \"check\", \"class\", \"close\", \"coffee\", \"cold\", \"college\", \"come\", \"coming\", \"computer\", \"concert\", \"cool\", \"could\", \"course\", \"crazy\", \"crazy\", \"cry\", \"crying\", \"cut\", \"cute\", \"dad\", \"day\", \"day\", \"day\", \"days\", \"days\", \"days\", \"days\", \"dead\", \"didnt\", \"died\", \"doesnt\", \"dont\", \"dream\", \"drive\", \"driving\", \"due\", \"dying\", \"early\", \"early\", \"eat\", \"eating\", \"ed\", \"else\", \"english\", \"even\", \"even\", \"even\", \"even\", \"exam\", \"excited\", \"eyes\", \"face\", \"fail\", \"fall\", \"family\", \"far\", \"farrah\", \"fawcett\", \"feel\", \"feeling\", \"feeling\", \"feels\", \"felt\", \"find\", \"find\", \"find\", \"finish\", \"finished\", \"first\", \"flu\", \"food\", \"forever\", \"forward\", \"found\", \"free\", \"friend\", \"friends\", \"fuck\", \"fucking\", \"fun\", \"fun\", \"fun\", \"get\", \"get\", \"get\", \"get\", \"get\", \"getting\", \"girl\", \"girl\", \"girls\", \"go\", \"go\", \"go\", \"go\", \"go\", \"god\", \"going\", \"going\", \"going\", \"going\", \"going\", \"gone\", \"gone\", \"gonna\", \"gonna\", \"gonna\", \"good\", \"good\", \"good\", \"good\", \"goodbye\", \"got\", \"got\", \"got\", \"got\", \"gotta\", \"great\", \"great\", \"guys\", \"guys\", \"guys\", \"gym\", \"ha\", \"haha\", \"haha\", \"haha\", \"hair\", \"hang\", \"happen\", \"happened\", \"happy\", \"hate\", \"head\", \"head\", \"headache\", \"hear\", \"heard\", \"heat\", \"hell\", \"hey\", \"hi\", \"hit\", \"home\", \"home\", \"home\", \"hope\", \"hope\", \"hopefully\", \"hot\", \"hour\", \"hours\", \"hungry\", \"hurt\", \"hurts\", \"idea\", \"ill\", \"im\", \"im\", \"im\", \"im\", \"im\", \"internet\", \"iphone\", \"ipod\", \"ive\", \"jealous\", \"job\", \"jon\", \"kate\", \"keep\", \"killing\", \"kind\", \"knew\", \"know\", \"know\", \"last\", \"late\", \"later\", \"least\", \"leaving\", \"left\", \"let\", \"life\", \"like\", \"line\", \"little\", \"little\", \"little\", \"little\", \"live\", \"lol\", \"lol\", \"lol\", \"lol\", \"lonely\", \"long\", \"look\", \"looking\", \"looks\", \"lost\", \"lost\", \"lots\", \"love\", \"love\", \"love\", \"love\", \"love\", \"lucky\", \"lunch\", \"mad\", \"make\", \"make\", \"make\", \"makes\", \"man\", \"man\", \"man\", \"man\", \"many\", \"meet\", \"meeting\", \"mind\", \"miss\", \"missed\", \"missing\", \"missing\", \"mom\", \"moment\", \"money\", \"month\", \"months\", \"mood\", \"morning\", \"morning\", \"movie\", \"movie\", \"much\", \"much\", \"much\", \"need\", \"need\", \"need\", \"need\", \"needs\", \"never\", \"never\", \"never\", \"never\", \"new\", \"new\", \"new\", \"new\", \"news\", \"next\", \"next\", \"next\", \"nice\", \"night\", \"nothing\", \"nothing\", \"nothing\", \"office\", \"oh\", \"oh\", \"oh\", \"okay\", \"omg\", \"omg\", \"one\", \"one\", \"one\", \"ones\", \"online\", \"open\", \"pain\", \"pain\", \"part\", \"party\", \"pay\", \"peace\", \"people\", \"people\", \"people\", \"people\", \"phone\", \"pics\", \"place\", \"please\", \"please\", \"pm\", \"point\", \"poor\", \"probably\", \"probably\", \"problem\", \"rain\", \"ready\", \"real\", \"really\", \"really\", \"really\", \"reason\", \"red\", \"remember\", \"rest\", \"right\", \"right\", \"right\", \"right\", \"rip\", \"sad\", \"sad\", \"sad\", \"sadly\", \"said\", \"said\", \"sat\", \"saturday\", \"saw\", \"say\", \"say\", \"saying\", \"says\", \"scared\", \"school\", \"season\", \"see\", \"see\", \"see\", \"seem\", \"seems\", \"seen\", \"seriously\", \"shit\", \"shopping\", \"shower\", \"sick\", \"sick\", \"sigh\", \"since\", \"sleep\", \"sleep\", \"sleepy\", \"slow\", \"sold\", \"someone\", \"someone\", \"someone\", \"someone\", \"something\", \"something\", \"sometimes\", \"song\", \"soo\", \"soon\", \"soon\", \"sooo\", \"soooo\", \"sore\", \"sorry\", \"sorry\", \"sound\", \"sounds\", \"starting\", \"still\", \"still\", \"still\", \"still\", \"stomach\", \"stop\", \"stuck\", \"stupid\", \"suck\", \"sucks\", \"summer\", \"sun\", \"sunday\", \"sunny\", \"super\", \"sweet\", \"taking\", \"talk\", \"talk\", \"talking\", \"terrible\", \"th\", \"thanks\", \"thats\", \"thing\", \"thing\", \"thing\", \"things\", \"things\", \"think\", \"think\", \"think\", \"think\", \"think\", \"thinking\", \"though\", \"though\", \"though\", \"throat\", \"tickets\", \"til\", \"till\", \"time\", \"time\", \"time\", \"tired\", \"tired\", \"today\", \"today\", \"told\", \"tomorrow\", \"tomorrow\", \"tomorrow\", \"tonight\", \"tonight\", \"tonight\", \"tonight\", \"tour\", \"town\", \"transformers\", \"trip\", \"true\", \"try\", \"tummy\", \"tv\", \"tweet\", \"twitter\", \"twitter\", \"two\", \"understand\", \"unfortunately\", \"update\", \"upset\", \"us\", \"us\", \"use\", \"video\", \"wait\", \"wait\", \"waiting\", \"wanna\", \"want\", \"wants\", \"watch\", \"watched\", \"watching\", \"watching\", \"water\", \"way\", \"way\", \"way\", \"weather\", \"week\", \"weird\", \"well\", \"well\", \"well\", \"well\", \"went\", \"went\", \"win\", \"wish\", \"wishing\", \"without\", \"woke\", \"woke\", \"work\", \"working\", \"works\", \"worried\", \"worse\", \"worst\", \"would\", \"would\", \"would\", \"would\", \"would\", \"wrong\", \"wtf\", \"xx\", \"yeah\", \"yeah\", \"yes\", \"yes\", \"yesterday\"]}, \"R\": 30, \"lambda.step\": 0.01, \"plot.opts\": {\"xlab\": \"PC1\", \"ylab\": \"PC2\"}, \"topic.order\": [1, 2, 4, 8, 3, 9, 5, 7, 6, 10]};\n",
       "\n",
       "function LDAvis_load_lib(url, callback){\n",
       "  var s = document.createElement('script');\n",
       "  s.src = url;\n",
       "  s.async = true;\n",
       "  s.onreadystatechange = s.onload = callback;\n",
       "  s.onerror = function(){console.warn(\"failed to load library \" + url);};\n",
       "  document.getElementsByTagName(\"head\")[0].appendChild(s);\n",
       "}\n",
       "\n",
       "if(typeof(LDAvis) !== \"undefined\"){\n",
       "   // already loaded: just create the visualization\n",
       "   !function(LDAvis){\n",
       "       new LDAvis(\"#\" + \"ldavis_el684422661901216642940813493\", ldavis_el684422661901216642940813493_data);\n",
       "   }(LDAvis);\n",
       "}else if(typeof define === \"function\" && define.amd){\n",
       "   // require.js is available: use it to load d3/LDAvis\n",
       "   require.config({paths: {d3: \"https://d3js.org/d3.v5\"}});\n",
       "   require([\"d3\"], function(d3){\n",
       "      window.d3 = d3;\n",
       "      LDAvis_load_lib(\"https://cdn.jsdelivr.net/gh/bmabey/pyLDAvis@3.3.1/pyLDAvis/js/ldavis.v3.0.0.js\", function(){\n",
       "        new LDAvis(\"#\" + \"ldavis_el684422661901216642940813493\", ldavis_el684422661901216642940813493_data);\n",
       "      });\n",
       "    });\n",
       "}else{\n",
       "    // require.js not available: dynamically load d3 & LDAvis\n",
       "    LDAvis_load_lib(\"https://d3js.org/d3.v5.js\", function(){\n",
       "         LDAvis_load_lib(\"https://cdn.jsdelivr.net/gh/bmabey/pyLDAvis@3.3.1/pyLDAvis/js/ldavis.v3.0.0.js\", function(){\n",
       "                 new LDAvis(\"#\" + \"ldavis_el684422661901216642940813493\", ldavis_el684422661901216642940813493_data);\n",
       "            })\n",
       "         });\n",
       "}\n",
       "</script>"
      ],
      "text/plain": [
       "<IPython.core.display.HTML object>"
      ]
     },
     "execution_count": 21,
     "metadata": {},
     "output_type": "execute_result"
    }
   ],
   "source": [
    "lda_display = gensimvis.prepare(ldamodel, corpus_df, dictionary_df, sort_topics=True)\n",
    "pyLDAvis.display(lda_display)"
   ]
  },
  {
   "cell_type": "code",
   "execution_count": null,
   "id": "58fcb0bd-781b-47b0-90fd-3acb4c52398e",
   "metadata": {},
   "outputs": [],
   "source": []
  }
 ],
 "metadata": {
  "environment": {
   "kernel": "python3",
   "name": "common-cpu.m103",
   "type": "gcloud",
   "uri": "gcr.io/deeplearning-platform-release/base-cpu:m103"
  },
  "kernelspec": {
   "display_name": "Python 3 (ipykernel)",
   "language": "python",
   "name": "python3"
  },
  "language_info": {
   "codemirror_mode": {
    "name": "ipython",
    "version": 3
   },
   "file_extension": ".py",
   "mimetype": "text/x-python",
   "name": "python",
   "nbconvert_exporter": "python",
   "pygments_lexer": "ipython3",
   "version": "3.10.6"
  }
 },
 "nbformat": 4,
 "nbformat_minor": 5
}
