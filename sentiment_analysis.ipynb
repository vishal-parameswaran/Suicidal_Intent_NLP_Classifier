{
 "cells": [
  {
   "cell_type": "code",
   "execution_count": 1,
   "id": "1550b801",
   "metadata": {},
   "outputs": [],
   "source": [
    "# pip install -U nltk"
   ]
  },
  {
   "cell_type": "code",
   "execution_count": 2,
   "id": "b1b7b445",
   "metadata": {},
   "outputs": [],
   "source": [
    "import numpy as np\n",
    "import pandas as pd\n",
    "import seaborn as sns\n",
    "import matplotlib.pyplot as plt\n",
    "\n",
    "from collections import defaultdict\n",
    "from gensim.models import Phrases\n",
    "import re\n",
    "\n",
    "from nltk.corpus import stopwords\n",
    "from nltk.tokenize import word_tokenize\n",
    "\n",
    "\n",
    "\n"
   ]
  },
  {
   "cell_type": "code",
   "execution_count": 3,
   "id": "79f344dc",
   "metadata": {},
   "outputs": [
    {
     "name": "stderr",
     "output_type": "stream",
     "text": [
      "/var/folders/dn/9qflv0c57rl7ynhwt9tnqmrr0000gn/T/ipykernel_11908/375617222.py:1: FutureWarning: The error_bad_lines argument has been deprecated and will be removed in a future version. Use on_bad_lines in the future.\n",
      "\n",
      "\n",
      "  tweets_dataset = pd.read_csv('tweets.csv', encoding='latin-1', error_bad_lines=False, header = None)\n"
     ]
    }
   ],
   "source": [
    "tweets_dataset = pd.read_csv('tweets.csv', encoding='latin-1', error_bad_lines=False, header = None)\n"
   ]
  },
  {
   "cell_type": "code",
   "execution_count": 4,
   "id": "a4bcaa8e",
   "metadata": {},
   "outputs": [
    {
     "data": {
      "text/html": [
       "<div>\n",
       "<style scoped>\n",
       "    .dataframe tbody tr th:only-of-type {\n",
       "        vertical-align: middle;\n",
       "    }\n",
       "\n",
       "    .dataframe tbody tr th {\n",
       "        vertical-align: top;\n",
       "    }\n",
       "\n",
       "    .dataframe thead th {\n",
       "        text-align: right;\n",
       "    }\n",
       "</style>\n",
       "<table border=\"1\" class=\"dataframe\">\n",
       "  <thead>\n",
       "    <tr style=\"text-align: right;\">\n",
       "      <th></th>\n",
       "      <th>target</th>\n",
       "      <th>ids</th>\n",
       "      <th>date</th>\n",
       "      <th>query</th>\n",
       "      <th>user</th>\n",
       "      <th>text</th>\n",
       "    </tr>\n",
       "  </thead>\n",
       "  <tbody>\n",
       "    <tr>\n",
       "      <th>0</th>\n",
       "      <td>0</td>\n",
       "      <td>1467810369</td>\n",
       "      <td>Mon Apr 06 22:19:45 PDT 2009</td>\n",
       "      <td>NO_QUERY</td>\n",
       "      <td>_TheSpecialOne_</td>\n",
       "      <td>@switchfoot http://twitpic.com/2y1zl - Awww, t...</td>\n",
       "    </tr>\n",
       "    <tr>\n",
       "      <th>1</th>\n",
       "      <td>0</td>\n",
       "      <td>1467810672</td>\n",
       "      <td>Mon Apr 06 22:19:49 PDT 2009</td>\n",
       "      <td>NO_QUERY</td>\n",
       "      <td>scotthamilton</td>\n",
       "      <td>is upset that he can't update his Facebook by ...</td>\n",
       "    </tr>\n",
       "    <tr>\n",
       "      <th>2</th>\n",
       "      <td>0</td>\n",
       "      <td>1467810917</td>\n",
       "      <td>Mon Apr 06 22:19:53 PDT 2009</td>\n",
       "      <td>NO_QUERY</td>\n",
       "      <td>mattycus</td>\n",
       "      <td>@Kenichan I dived many times for the ball. Man...</td>\n",
       "    </tr>\n",
       "    <tr>\n",
       "      <th>3</th>\n",
       "      <td>0</td>\n",
       "      <td>1467811184</td>\n",
       "      <td>Mon Apr 06 22:19:57 PDT 2009</td>\n",
       "      <td>NO_QUERY</td>\n",
       "      <td>ElleCTF</td>\n",
       "      <td>my whole body feels itchy and like its on fire</td>\n",
       "    </tr>\n",
       "    <tr>\n",
       "      <th>4</th>\n",
       "      <td>0</td>\n",
       "      <td>1467811193</td>\n",
       "      <td>Mon Apr 06 22:19:57 PDT 2009</td>\n",
       "      <td>NO_QUERY</td>\n",
       "      <td>Karoli</td>\n",
       "      <td>@nationwideclass no, it's not behaving at all....</td>\n",
       "    </tr>\n",
       "  </tbody>\n",
       "</table>\n",
       "</div>"
      ],
      "text/plain": [
       "   target         ids                          date     query  \\\n",
       "0       0  1467810369  Mon Apr 06 22:19:45 PDT 2009  NO_QUERY   \n",
       "1       0  1467810672  Mon Apr 06 22:19:49 PDT 2009  NO_QUERY   \n",
       "2       0  1467810917  Mon Apr 06 22:19:53 PDT 2009  NO_QUERY   \n",
       "3       0  1467811184  Mon Apr 06 22:19:57 PDT 2009  NO_QUERY   \n",
       "4       0  1467811193  Mon Apr 06 22:19:57 PDT 2009  NO_QUERY   \n",
       "\n",
       "              user                                               text  \n",
       "0  _TheSpecialOne_  @switchfoot http://twitpic.com/2y1zl - Awww, t...  \n",
       "1    scotthamilton  is upset that he can't update his Facebook by ...  \n",
       "2         mattycus  @Kenichan I dived many times for the ball. Man...  \n",
       "3          ElleCTF    my whole body feels itchy and like its on fire   \n",
       "4           Karoli  @nationwideclass no, it's not behaving at all....  "
      ]
     },
     "execution_count": 4,
     "metadata": {},
     "output_type": "execute_result"
    }
   ],
   "source": [
    "tweets_dataset = tweets_dataset.rename(columns = {\n",
    "    0: \"target\",\n",
    "    1: \"ids\",\n",
    "    2: \"date\",\n",
    "    3: \"query\",\n",
    "    4: \"user\",\n",
    "    5: \"text\"\n",
    "})\n",
    "\n",
    "tweets_dataset.head()"
   ]
  },
  {
   "cell_type": "code",
   "execution_count": 5,
   "id": "339a7852",
   "metadata": {},
   "outputs": [
    {
     "name": "stdout",
     "output_type": "stream",
     "text": [
      "<class 'pandas.core.frame.DataFrame'>\n",
      "RangeIndex: 1600000 entries, 0 to 1599999\n",
      "Data columns (total 6 columns):\n",
      " #   Column  Non-Null Count    Dtype \n",
      "---  ------  --------------    ----- \n",
      " 0   target  1600000 non-null  int64 \n",
      " 1   ids     1600000 non-null  int64 \n",
      " 2   date    1600000 non-null  object\n",
      " 3   query   1600000 non-null  object\n",
      " 4   user    1600000 non-null  object\n",
      " 5   text    1600000 non-null  object\n",
      "dtypes: int64(2), object(4)\n",
      "memory usage: 73.2+ MB\n"
     ]
    }
   ],
   "source": [
    "tweets_dataset.info()"
   ]
  },
  {
   "cell_type": "code",
   "execution_count": 6,
   "id": "7aabf689",
   "metadata": {},
   "outputs": [
    {
     "data": {
      "text/plain": [
       "target    0\n",
       "ids       0\n",
       "date      0\n",
       "query     0\n",
       "user      0\n",
       "text      0\n",
       "dtype: int64"
      ]
     },
     "execution_count": 6,
     "metadata": {},
     "output_type": "execute_result"
    }
   ],
   "source": [
    "tweets_dataset.isnull().sum()"
   ]
  },
  {
   "cell_type": "code",
   "execution_count": 7,
   "id": "a8b1ab27",
   "metadata": {},
   "outputs": [
    {
     "name": "stdout",
     "output_type": "stream",
     "text": [
      " Body Of Missing Northern Calif. Girl Found: Police have found the remains of a missing Northern California girl .. http://tr.im/imji\n"
     ]
    },
    {
     "data": {
      "text/plain": [
       "133"
      ]
     },
     "execution_count": 7,
     "metadata": {},
     "output_type": "execute_result"
    }
   ],
   "source": [
    "#READING A RANDOM POST FROM r/depression\n",
    "print(tweets_dataset[\"text\"][100])\n",
    "len(tweets_dataset[\"text\"][100])"
   ]
  },
  {
   "cell_type": "markdown",
   "id": "36e48ad2",
   "metadata": {},
   "source": [
    "#### Make a list of documents, we can create a list of stop words and remove them and tokenize each document. "
   ]
  },
  {
   "cell_type": "code",
   "execution_count": 8,
   "id": "ccd1488c",
   "metadata": {},
   "outputs": [],
   "source": [
    "# documents = tweets_dataset['text'].to_list()"
   ]
  },
  {
   "cell_type": "code",
   "execution_count": 9,
   "id": "2d5f8ea3",
   "metadata": {},
   "outputs": [],
   "source": [
    "# stoplist = ['the', 'a', 'an', 'of', 'and', 'or', 'in', 'for', 'to', 'at', 'by', 'from', 'with', 'on', 'as', 'but', 'is', 'are', 'was', 'were', 'be', 'been', 'am', 'i', 'me', 'my', 'we', 'our', 'you', 'fish', 'troll', 'ha', 'bye', 'ok', 'okay', 'andy', 'idiot']\n",
    "\n",
    "# # remove common words and tokenize\n",
    "# texts = [[word for word in document.split() if word not in stoplist]\n",
    "#          for document in documents]\n"
   ]
  },
  {
   "cell_type": "code",
   "execution_count": 10,
   "id": "b3dfb542",
   "metadata": {},
   "outputs": [
    {
     "data": {
      "text/plain": [
       "0          @switchfoot http://twitpic.com/2y1zl - Awww, t...\n",
       "1          is upset that he can't update his Facebook by ...\n",
       "2          @Kenichan I dived many times for the ball. Man...\n",
       "3            my whole body feels itchy and like its on fire \n",
       "4          @nationwideclass no, it's not behaving at all....\n",
       "                                 ...                        \n",
       "1599995    Just woke up. Having no school is the best fee...\n",
       "1599996    TheWDB.com - Very cool to hear old Walt interv...\n",
       "1599997    Are you ready for your MoJo Makeover? Ask me f...\n",
       "1599998    Happy 38th Birthday to my boo of alll time!!! ...\n",
       "1599999    happy #charitytuesday @theNSPCC @SparksCharity...\n",
       "Name: text, Length: 1600000, dtype: object"
      ]
     },
     "execution_count": 10,
     "metadata": {},
     "output_type": "execute_result"
    }
   ],
   "source": [
    "tweets_dataset['text']"
   ]
  },
  {
   "cell_type": "code",
   "execution_count": 11,
   "id": "89e4ea0e",
   "metadata": {},
   "outputs": [],
   "source": [
    "# # remove words that appear only once\n",
    "# frequency = defaultdict(int)\n",
    "# for text in texts:\n",
    "#     for token in text:\n",
    "#         frequency[token] += 1\n",
    "\n",
    "# texts = [[token for token in text if frequency[token] > 1]\n",
    "#          for text in texts]"
   ]
  },
  {
   "cell_type": "code",
   "execution_count": 12,
   "id": "067af4d8",
   "metadata": {},
   "outputs": [],
   "source": [
    "# # Add bigrams to docs (only ones that appear 20 times or more).\n",
    "# bigram = Phrases(texts, min_count=20)\n",
    "# for idx in range(len(texts)):\n",
    "#     for token in bigram[texts[idx]]:\n",
    "#         if '_' in token:\n",
    "#             # Token is a bigram, add to document.\n",
    "#             texts[idx].append(token)"
   ]
  },
  {
   "cell_type": "code",
   "execution_count": 13,
   "id": "b3300d9a",
   "metadata": {},
   "outputs": [
    {
     "data": {
      "image/png": "[encoded data removed]",
      "text/plain": [
       "<Figure size 432x288 with 1 Axes>"
      ]
     },
     "metadata": {
      "needs_background": "light"
     },
     "output_type": "display_data"
    }
   ],
   "source": [
    "sns.countplot(x='target', data=tweets_dataset, hue='target')\n",
    "\n",
    "\n",
    "plt.legend(title='Tweet Sentiments', loc='upper center', labels=['Negative', 'Positive'])\n",
    "plt.show()\n",
    "\n"
   ]
  },
  {
   "cell_type": "code",
   "execution_count": 14,
   "id": "1172acf3",
   "metadata": {},
   "outputs": [],
   "source": [
    "tweets_dataset = tweets_dataset.drop(['query'], axis=1)"
   ]
  },
  {
   "cell_type": "markdown",
   "id": "6a160db2",
   "metadata": {},
   "source": [
    "### Text and User cleaning"
   ]
  },
  {
   "cell_type": "code",
   "execution_count": 15,
   "id": "0be8dde2",
   "metadata": {},
   "outputs": [],
   "source": [
    "def clean_text(text):\n",
    "    text = str(text).lower()\n",
    "    text = re.sub('\\[.*?@\\]', '', text)\n",
    "    text = re.sub('https?://\\S+|www\\.\\S+', '', text)\n",
    "    text = re.sub('<.*?@>+', '', text)\n",
    "    text = re.sub('\\n', '', text)\n",
    "    text = re.sub('\\@', '', text)\n",
    "    text = re.sub('\\_', '', text)\n",
    "    text = re.sub('\\w*\\d\\w*', '', text)\n",
    "    return text\n",
    "\n",
    "# text = re.sub('[%s]' % re.escape(string.punctuation), '', text)\n"
   ]
  },
  {
   "cell_type": "code",
   "execution_count": 16,
   "id": "e1e49a35",
   "metadata": {},
   "outputs": [],
   "source": [
    "tweets_dataset['text'] = tweets_dataset['text'].apply(clean_text)\n",
    "tweets_dataset['user'] = tweets_dataset['user'].apply(clean_text)\n"
   ]
  },
  {
   "cell_type": "code",
   "execution_count": 17,
   "id": "c1ad1def",
   "metadata": {},
   "outputs": [
    {
     "data": {
      "text/html": [
       "<div>\n",
       "<style scoped>\n",
       "    .dataframe tbody tr th:only-of-type {\n",
       "        vertical-align: middle;\n",
       "    }\n",
       "\n",
       "    .dataframe tbody tr th {\n",
       "        vertical-align: top;\n",
       "    }\n",
       "\n",
       "    .dataframe thead th {\n",
       "        text-align: right;\n",
       "    }\n",
       "</style>\n",
       "<table border=\"1\" class=\"dataframe\">\n",
       "  <thead>\n",
       "    <tr style=\"text-align: right;\">\n",
       "      <th></th>\n",
       "      <th>target</th>\n",
       "      <th>ids</th>\n",
       "      <th>date</th>\n",
       "      <th>user</th>\n",
       "      <th>text</th>\n",
       "    </tr>\n",
       "  </thead>\n",
       "  <tbody>\n",
       "    <tr>\n",
       "      <th>0</th>\n",
       "      <td>0</td>\n",
       "      <td>1467810369</td>\n",
       "      <td>Mon Apr 06 22:19:45 PDT 2009</td>\n",
       "      <td>thespecialone</td>\n",
       "      <td>switchfoot  - awww, that's a bummer.  you shou...</td>\n",
       "    </tr>\n",
       "    <tr>\n",
       "      <th>1</th>\n",
       "      <td>0</td>\n",
       "      <td>1467810672</td>\n",
       "      <td>Mon Apr 06 22:19:49 PDT 2009</td>\n",
       "      <td>scotthamilton</td>\n",
       "      <td>is upset that he can't update his facebook by ...</td>\n",
       "    </tr>\n",
       "    <tr>\n",
       "      <th>2</th>\n",
       "      <td>0</td>\n",
       "      <td>1467810917</td>\n",
       "      <td>Mon Apr 06 22:19:53 PDT 2009</td>\n",
       "      <td>mattycus</td>\n",
       "      <td>kenichan i dived many times for the ball. mana...</td>\n",
       "    </tr>\n",
       "    <tr>\n",
       "      <th>3</th>\n",
       "      <td>0</td>\n",
       "      <td>1467811184</td>\n",
       "      <td>Mon Apr 06 22:19:57 PDT 2009</td>\n",
       "      <td>ellectf</td>\n",
       "      <td>my whole body feels itchy and like its on fire</td>\n",
       "    </tr>\n",
       "    <tr>\n",
       "      <th>4</th>\n",
       "      <td>0</td>\n",
       "      <td>1467811193</td>\n",
       "      <td>Mon Apr 06 22:19:57 PDT 2009</td>\n",
       "      <td>karoli</td>\n",
       "      <td>nationwideclass no, it's not behaving at all. ...</td>\n",
       "    </tr>\n",
       "  </tbody>\n",
       "</table>\n",
       "</div>"
      ],
      "text/plain": [
       "   target         ids                          date           user  \\\n",
       "0       0  1467810369  Mon Apr 06 22:19:45 PDT 2009  thespecialone   \n",
       "1       0  1467810672  Mon Apr 06 22:19:49 PDT 2009  scotthamilton   \n",
       "2       0  1467810917  Mon Apr 06 22:19:53 PDT 2009       mattycus   \n",
       "3       0  1467811184  Mon Apr 06 22:19:57 PDT 2009        ellectf   \n",
       "4       0  1467811193  Mon Apr 06 22:19:57 PDT 2009         karoli   \n",
       "\n",
       "                                                text  \n",
       "0  switchfoot  - awww, that's a bummer.  you shou...  \n",
       "1  is upset that he can't update his facebook by ...  \n",
       "2  kenichan i dived many times for the ball. mana...  \n",
       "3    my whole body feels itchy and like its on fire   \n",
       "4  nationwideclass no, it's not behaving at all. ...  "
      ]
     },
     "execution_count": 17,
     "metadata": {},
     "output_type": "execute_result"
    }
   ],
   "source": [
    "tweets_dataset.head()"
   ]
  },
  {
   "cell_type": "markdown",
   "id": "cbdf2552",
   "metadata": {},
   "source": [
    "### Remove stop words"
   ]
  },
  {
   "cell_type": "code",
   "execution_count": 18,
   "id": "cb344596",
   "metadata": {},
   "outputs": [
    {
     "data": {
      "text/html": [
       "<div>\n",
       "<style scoped>\n",
       "    .dataframe tbody tr th:only-of-type {\n",
       "        vertical-align: middle;\n",
       "    }\n",
       "\n",
       "    .dataframe tbody tr th {\n",
       "        vertical-align: top;\n",
       "    }\n",
       "\n",
       "    .dataframe thead th {\n",
       "        text-align: right;\n",
       "    }\n",
       "</style>\n",
       "<table border=\"1\" class=\"dataframe\">\n",
       "  <thead>\n",
       "    <tr style=\"text-align: right;\">\n",
       "      <th></th>\n",
       "      <th>target</th>\n",
       "      <th>ids</th>\n",
       "      <th>date</th>\n",
       "      <th>user</th>\n",
       "      <th>text</th>\n",
       "    </tr>\n",
       "  </thead>\n",
       "  <tbody>\n",
       "    <tr>\n",
       "      <th>0</th>\n",
       "      <td>0</td>\n",
       "      <td>1467810369</td>\n",
       "      <td>Mon Apr 06 22:19:45 PDT 2009</td>\n",
       "      <td>thespecialone</td>\n",
       "      <td>switchfoot  - awww, that's bummer.  shoulda go...</td>\n",
       "    </tr>\n",
       "    <tr>\n",
       "      <th>1</th>\n",
       "      <td>0</td>\n",
       "      <td>1467810672</td>\n",
       "      <td>Mon Apr 06 22:19:49 PDT 2009</td>\n",
       "      <td>scotthamilton</td>\n",
       "      <td>upset can't update facebook texting it... migh...</td>\n",
       "    </tr>\n",
       "    <tr>\n",
       "      <th>2</th>\n",
       "      <td>0</td>\n",
       "      <td>1467810917</td>\n",
       "      <td>Mon Apr 06 22:19:53 PDT 2009</td>\n",
       "      <td>mattycus</td>\n",
       "      <td>kenichan dived many times ball. managed save %...</td>\n",
       "    </tr>\n",
       "    <tr>\n",
       "      <th>3</th>\n",
       "      <td>0</td>\n",
       "      <td>1467811184</td>\n",
       "      <td>Mon Apr 06 22:19:57 PDT 2009</td>\n",
       "      <td>ellectf</td>\n",
       "      <td>whole body feels itchy like fire</td>\n",
       "    </tr>\n",
       "    <tr>\n",
       "      <th>4</th>\n",
       "      <td>0</td>\n",
       "      <td>1467811193</td>\n",
       "      <td>Mon Apr 06 22:19:57 PDT 2009</td>\n",
       "      <td>karoli</td>\n",
       "      <td>nationwideclass no, behaving all. i'm mad. her...</td>\n",
       "    </tr>\n",
       "  </tbody>\n",
       "</table>\n",
       "</div>"
      ],
      "text/plain": [
       "   target         ids                          date           user  \\\n",
       "0       0  1467810369  Mon Apr 06 22:19:45 PDT 2009  thespecialone   \n",
       "1       0  1467810672  Mon Apr 06 22:19:49 PDT 2009  scotthamilton   \n",
       "2       0  1467810917  Mon Apr 06 22:19:53 PDT 2009       mattycus   \n",
       "3       0  1467811184  Mon Apr 06 22:19:57 PDT 2009        ellectf   \n",
       "4       0  1467811193  Mon Apr 06 22:19:57 PDT 2009         karoli   \n",
       "\n",
       "                                                text  \n",
       "0  switchfoot  - awww, that's bummer.  shoulda go...  \n",
       "1  upset can't update facebook texting it... migh...  \n",
       "2  kenichan dived many times ball. managed save %...  \n",
       "3                  whole body feels itchy like fire   \n",
       "4  nationwideclass no, behaving all. i'm mad. her...  "
      ]
     },
     "execution_count": 18,
     "metadata": {},
     "output_type": "execute_result"
    }
   ],
   "source": [
    "stop_words = stopwords.words('english')\n",
    "\n",
    "def remove_stopwords(text):\n",
    "    text = ' '.join(word for word in text.split(' ') if word not in stop_words)\n",
    "    return text\n",
    "    \n",
    "tweets_dataset['text'] = tweets_dataset['text'].apply(remove_stopwords)\n",
    "tweets_dataset.head()"
   ]
  },
  {
   "cell_type": "markdown",
   "id": "d2c3ebe7",
   "metadata": {},
   "source": [
    "### Format date"
   ]
  },
  {
   "cell_type": "code",
   "execution_count": 19,
   "id": "e34f39a3",
   "metadata": {},
   "outputs": [
    {
     "name": "stdout",
     "output_type": "stream",
     "text": [
      "<class 'pandas.core.series.Series'>\n",
      "RangeIndex: 1600000 entries, 0 to 1599999\n",
      "Series name: date\n",
      "Non-Null Count    Dtype \n",
      "--------------    ----- \n",
      "1600000 non-null  object\n",
      "dtypes: object(1)\n",
      "memory usage: 12.2+ MB\n"
     ]
    }
   ],
   "source": [
    "# tweets_dataset['date'] = tweets_dataset['date'].dt.strftime('%m/%d/%Y')\n",
    "tweets_dataset['date'].info()"
   ]
  },
  {
   "cell_type": "code",
   "execution_count": 20,
   "id": "03c3c978",
   "metadata": {},
   "outputs": [],
   "source": [
    "tweets_dataset['date'] = pd.to_datetime(tweets_dataset['date'], format='%a %b %d %H:%M:%S PDT %Y')\n",
    "\n",
    "\n"
   ]
  },
  {
   "cell_type": "code",
   "execution_count": 21,
   "id": "2ddb1c4d",
   "metadata": {},
   "outputs": [],
   "source": [
    "tweets_dataset['formatted_date'] = tweets_dataset['date'].dt.strftime('%m-%d-%Y')\n",
    "tweets_dataset['day'] = tweets_dataset['date'].dt.strftime('%a')\n",
    "\n",
    "tweets_dataset = tweets_dataset.drop(['date'], axis=1)"
   ]
  },
  {
   "cell_type": "code",
   "execution_count": 22,
   "id": "5a53ccd9",
   "metadata": {},
   "outputs": [
    {
     "data": {
      "text/html": [
       "<div>\n",
       "<style scoped>\n",
       "    .dataframe tbody tr th:only-of-type {\n",
       "        vertical-align: middle;\n",
       "    }\n",
       "\n",
       "    .dataframe tbody tr th {\n",
       "        vertical-align: top;\n",
       "    }\n",
       "\n",
       "    .dataframe thead th {\n",
       "        text-align: right;\n",
       "    }\n",
       "</style>\n",
       "<table border=\"1\" class=\"dataframe\">\n",
       "  <thead>\n",
       "    <tr style=\"text-align: right;\">\n",
       "      <th></th>\n",
       "      <th>target</th>\n",
       "      <th>ids</th>\n",
       "      <th>user</th>\n",
       "      <th>text</th>\n",
       "      <th>formatted_date</th>\n",
       "      <th>day</th>\n",
       "    </tr>\n",
       "  </thead>\n",
       "  <tbody>\n",
       "    <tr>\n",
       "      <th>0</th>\n",
       "      <td>0</td>\n",
       "      <td>1467810369</td>\n",
       "      <td>thespecialone</td>\n",
       "      <td>switchfoot  - awww, that's bummer.  shoulda go...</td>\n",
       "      <td>04-06-2009</td>\n",
       "      <td>Mon</td>\n",
       "    </tr>\n",
       "    <tr>\n",
       "      <th>1</th>\n",
       "      <td>0</td>\n",
       "      <td>1467810672</td>\n",
       "      <td>scotthamilton</td>\n",
       "      <td>upset can't update facebook texting it... migh...</td>\n",
       "      <td>04-06-2009</td>\n",
       "      <td>Mon</td>\n",
       "    </tr>\n",
       "    <tr>\n",
       "      <th>2</th>\n",
       "      <td>0</td>\n",
       "      <td>1467810917</td>\n",
       "      <td>mattycus</td>\n",
       "      <td>kenichan dived many times ball. managed save %...</td>\n",
       "      <td>04-06-2009</td>\n",
       "      <td>Mon</td>\n",
       "    </tr>\n",
       "    <tr>\n",
       "      <th>3</th>\n",
       "      <td>0</td>\n",
       "      <td>1467811184</td>\n",
       "      <td>ellectf</td>\n",
       "      <td>whole body feels itchy like fire</td>\n",
       "      <td>04-06-2009</td>\n",
       "      <td>Mon</td>\n",
       "    </tr>\n",
       "    <tr>\n",
       "      <th>4</th>\n",
       "      <td>0</td>\n",
       "      <td>1467811193</td>\n",
       "      <td>karoli</td>\n",
       "      <td>nationwideclass no, behaving all. i'm mad. her...</td>\n",
       "      <td>04-06-2009</td>\n",
       "      <td>Mon</td>\n",
       "    </tr>\n",
       "  </tbody>\n",
       "</table>\n",
       "</div>"
      ],
      "text/plain": [
       "   target         ids           user  \\\n",
       "0       0  1467810369  thespecialone   \n",
       "1       0  1467810672  scotthamilton   \n",
       "2       0  1467810917       mattycus   \n",
       "3       0  1467811184        ellectf   \n",
       "4       0  1467811193         karoli   \n",
       "\n",
       "                                                text formatted_date  day  \n",
       "0  switchfoot  - awww, that's bummer.  shoulda go...     04-06-2009  Mon  \n",
       "1  upset can't update facebook texting it... migh...     04-06-2009  Mon  \n",
       "2  kenichan dived many times ball. managed save %...     04-06-2009  Mon  \n",
       "3                  whole body feels itchy like fire      04-06-2009  Mon  \n",
       "4  nationwideclass no, behaving all. i'm mad. her...     04-06-2009  Mon  "
      ]
     },
     "execution_count": 22,
     "metadata": {},
     "output_type": "execute_result"
    }
   ],
   "source": [
    "tweets_dataset.head()"
   ]
  },
  {
   "cell_type": "markdown",
   "id": "bdb3cf05",
   "metadata": {},
   "source": [
    "### Stemming"
   ]
  },
  {
   "cell_type": "markdown",
   "id": "5451f21e",
   "metadata": {},
   "source": [
    "Stemming reduces the inflectional and derivational forms of words to a common base form, which can simplify text analysis and improve the accuracy of text-based applications.\n",
    "\n",
    "For example, the words \"running\", \"runs\", and \"ran\" can be reduced to their stem \"run\", which can help to identify them as variants of the same word and thus improve the accuracy of analysis."
   ]
  },
  {
   "cell_type": "code",
   "execution_count": 25,
   "id": "638ec857",
   "metadata": {},
   "outputs": [
    {
     "data": {
      "text/html": [
       "<div>\n",
       "<style scoped>\n",
       "    .dataframe tbody tr th:only-of-type {\n",
       "        vertical-align: middle;\n",
       "    }\n",
       "\n",
       "    .dataframe tbody tr th {\n",
       "        vertical-align: top;\n",
       "    }\n",
       "\n",
       "    .dataframe thead th {\n",
       "        text-align: right;\n",
       "    }\n",
       "</style>\n",
       "<table border=\"1\" class=\"dataframe\">\n",
       "  <thead>\n",
       "    <tr style=\"text-align: right;\">\n",
       "      <th></th>\n",
       "      <th>target</th>\n",
       "      <th>ids</th>\n",
       "      <th>user</th>\n",
       "      <th>text</th>\n",
       "      <th>formatted_date</th>\n",
       "      <th>day</th>\n",
       "    </tr>\n",
       "  </thead>\n",
       "  <tbody>\n",
       "    <tr>\n",
       "      <th>0</th>\n",
       "      <td>0</td>\n",
       "      <td>1467810369</td>\n",
       "      <td>thespecialone</td>\n",
       "      <td>switchfoot  - awww, that bummer.  shoulda got ...</td>\n",
       "      <td>04-06-2009</td>\n",
       "      <td>Mon</td>\n",
       "    </tr>\n",
       "    <tr>\n",
       "      <th>1</th>\n",
       "      <td>0</td>\n",
       "      <td>1467810672</td>\n",
       "      <td>scotthamilton</td>\n",
       "      <td>upset can't updat facebook text it... might cr...</td>\n",
       "      <td>04-06-2009</td>\n",
       "      <td>Mon</td>\n",
       "    </tr>\n",
       "    <tr>\n",
       "      <th>2</th>\n",
       "      <td>0</td>\n",
       "      <td>1467810917</td>\n",
       "      <td>mattycus</td>\n",
       "      <td>kenichan dive mani time ball. manag save %  re...</td>\n",
       "      <td>04-06-2009</td>\n",
       "      <td>Mon</td>\n",
       "    </tr>\n",
       "    <tr>\n",
       "      <th>3</th>\n",
       "      <td>0</td>\n",
       "      <td>1467811184</td>\n",
       "      <td>ellectf</td>\n",
       "      <td>whole bodi feel itchi like fire</td>\n",
       "      <td>04-06-2009</td>\n",
       "      <td>Mon</td>\n",
       "    </tr>\n",
       "    <tr>\n",
       "      <th>4</th>\n",
       "      <td>0</td>\n",
       "      <td>1467811193</td>\n",
       "      <td>karoli</td>\n",
       "      <td>nationwideclass no, behav all. i'm mad. here? ...</td>\n",
       "      <td>04-06-2009</td>\n",
       "      <td>Mon</td>\n",
       "    </tr>\n",
       "  </tbody>\n",
       "</table>\n",
       "</div>"
      ],
      "text/plain": [
       "   target         ids           user  \\\n",
       "0       0  1467810369  thespecialone   \n",
       "1       0  1467810672  scotthamilton   \n",
       "2       0  1467810917       mattycus   \n",
       "3       0  1467811184        ellectf   \n",
       "4       0  1467811193         karoli   \n",
       "\n",
       "                                                text formatted_date  day  \n",
       "0  switchfoot  - awww, that bummer.  shoulda got ...     04-06-2009  Mon  \n",
       "1  upset can't updat facebook text it... might cr...     04-06-2009  Mon  \n",
       "2  kenichan dive mani time ball. manag save %  re...     04-06-2009  Mon  \n",
       "3                   whole bodi feel itchi like fire      04-06-2009  Mon  \n",
       "4  nationwideclass no, behav all. i'm mad. here? ...     04-06-2009  Mon  "
      ]
     },
     "execution_count": 25,
     "metadata": {},
     "output_type": "execute_result"
    }
   ],
   "source": [
    "import nltk\n",
    "stemmer = nltk.SnowballStemmer(\"english\")\n",
    "\n",
    "def stemm_text(text):\n",
    "    text = ' '.join(stemmer.stem(word) for word in text.split(' '))\n",
    "    return text\n",
    "\n",
    "tweets_dataset['text'] = tweets_dataset['text'].apply(stemm_text)\n",
    "tweets_dataset.head()"
   ]
  },
  {
   "cell_type": "code",
   "execution_count": null,
   "id": "37c42aa7",
   "metadata": {},
   "outputs": [],
   "source": [
    "print(\"try\")"
   ]
  }
 ],
 "metadata": {
  "kernelspec": {
   "display_name": "Python 3 (ipykernel)",
   "language": "python",
   "name": "python3"
  },
  "language_info": {
   "codemirror_mode": {
    "name": "ipython",
    "version": 3
   },
   "file_extension": ".py",
   "mimetype": "text/x-python",
   "name": "python",
   "nbconvert_exporter": "python",
   "pygments_lexer": "ipython3",
   "version": "3.9.13"
  }
 },
 "nbformat": 4,
 "nbformat_minor": 5
}
