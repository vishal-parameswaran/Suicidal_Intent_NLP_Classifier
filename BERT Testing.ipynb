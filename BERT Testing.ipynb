{
 "cells": [
  {
   "cell_type": "code",
   "execution_count": 1,
   "id": "e16a9f53-1322-419c-a529-ef2cbe31cd9d",
   "metadata": {},
   "outputs": [],
   "source": [
    "from torch import nn\n",
    "from transformers import BertConfig, BertModel\n",
    "import pandas as pd\n",
    "\n",
    "class BertClassifier(nn.Module):\n",
    "\n",
    "    def __init__(self, dropout=0.1):\n",
    "        \n",
    "        super(BertClassifier, self).__init__()\n",
    "        \n",
    "        self.bert = AutoModel.from_pretrained(\"paulagarciaserrano/roberta-depression-detection\")\n",
    "        self.dropout = nn.Dropout(dropout)\n",
    "        self.linear = nn.Linear(768, 192)\n",
    "        self.linear1 = nn.Linear(192, 64)\n",
    "        self.linear2 = nn.Linear(64, 2)\n",
    "        self.gelu = nn.GELU()\n",
    "        self.sigmoid = nn.Sigmoid()\n",
    "\n",
    "    def forward(self, input_id, mask):\n",
    "        _, pooled_output = self.bert(input_ids= input_id,attention_mask=mask,return_dict=False)\n",
    "        dropout_output = self.dropout(pooled_output)\n",
    "        \n",
    "        # Adding a new hidden layer to the output of BERT model\n",
    "        linear_output1 = self.linear(dropout_output)\n",
    "        linear_output1 = self.gelu(linear_output1)\n",
    "        linear_output1 = self.dropout(linear_output1)\n",
    "        \n",
    "        # Adding a new hidden layer to the output of BERT model\n",
    "        linear_output2 = self.linear1(linear_output1)\n",
    "        linear_output2 = self.gelu(linear_output2)\n",
    "        linear_output2 = self.dropout(linear_output2)\n",
    "        \n",
    "        # Adding the sigmoid layer for the model output\n",
    "        linear_output3 = self.linear2(linear_output2)\n",
    "        final_layer = self.sigmoid(linear_output3)\n",
    "        \n",
    "        return final_layer"
   ]
  },
  {
   "cell_type": "code",
   "execution_count": 2,
   "id": "b783d9b9-d000-43e4-8d4c-0df4dd903204",
   "metadata": {},
   "outputs": [],
   "source": [
    "import torch\n",
    "from torch import nn\n",
    "from transformers import BertConfig, BertModel\n",
    "model = torch.load('model_BERT_Trained.pkl')"
   ]
  },
  {
   "cell_type": "code",
   "execution_count": 3,
   "id": "f9c8d429-1154-4df0-8890-ee2e228ddd77",
   "metadata": {},
   "outputs": [],
   "source": [
    "import torch\n",
    "import numpy as np\n",
    "from transformers import BertTokenizer\n",
    "from transformers import AutoTokenizer, AutoModel\n",
    "from tqdm.notebook import tqdm\n",
    "\n",
    "\n",
    "# We're using a base model for re-training with the base model trained on depression dataset\n",
    "tokenizer = AutoTokenizer.from_pretrained(\"paulagarciaserrano/roberta-depression-detection\")\n",
    "\n",
    "labels = {0: 0, 1: 1}\n",
    "\n",
    "class Dataset(torch.utils.data.Dataset):\n",
    "\n",
    "    def __init__(self, df):\n",
    "\n",
    "        self.labels = [labels[label] for label in df['target']]\n",
    "        \n",
    "        # Setting the parameters for the BERT tokenizer with max lenght = 64 and converting them to pytorch tensors\n",
    "        self.texts = [tokenizer(text, \n",
    "                               padding='max_length', max_length = 64, truncation=True,\n",
    "                                return_tensors=\"pt\") for text in tqdm(df['text'])]\n",
    "        \n",
    "    def get_batch_labels(self, idx):\n",
    "        # Fetch a batch of labels\n",
    "        return np.array(self.labels[idx])\n",
    "\n",
    "    def get_batch_texts(self, idx):\n",
    "        # Fetch a batch of inputs\n",
    "        return self.texts[idx]\n",
    "\n",
    "    def classes(self):\n",
    "        return self.labels\n",
    "\n",
    "    def __len__(self):\n",
    "        return len(self.labels)\n",
    "\n",
    "    def __getitem__(self, idx):\n",
    "\n",
    "        batch_texts = self.get_batch_texts(idx)\n",
    "        batch_y = self.get_batch_labels(idx)\n",
    "\n",
    "        return batch_texts, batch_y"
   ]
  },
  {
   "cell_type": "code",
   "execution_count": 4,
   "id": "d1dc08df-7ea9-4f6e-9111-a067d0889690",
   "metadata": {},
   "outputs": [],
   "source": [
    "def evaluate(model, test_data):\n",
    "    \n",
    "    test = Dataset(test_data)\n",
    "    test_dataloader = torch.utils.data.DataLoader(test, batch_size = 64)\n",
    "\n",
    "    use_cuda = torch.cuda.is_available()\n",
    "    device = torch.device(\"cuda\" if use_cuda else \"cpu\")\n",
    "\n",
    "    if use_cuda:\n",
    "        model = model.cuda()\n",
    "\n",
    "    res = []\n",
    "    total_acc_test = 0\n",
    "    with torch.no_grad():\n",
    "        count = 0\n",
    "        for test_input, test_label in tqdm(test_dataloader):\n",
    "            \n",
    "            test_label = test_label.to(device)\n",
    "            mask = test_input['attention_mask'].to(device)\n",
    "            input_id = test_input['input_ids'].squeeze(1).to(device)\n",
    "\n",
    "            output = model(input_id, mask)\n",
    "            res.append(output.argmax(dim=1))\n",
    "\n",
    "            acc = (output.argmax(dim=1) == test_label).sum().item()\n",
    "            total_acc_test += acc\n",
    "    \n",
    "    print(f'Test Accuracy: {total_acc_test / len(test_data): .3f}')\n",
    "    return res"
   ]
  },
  {
   "cell_type": "code",
   "execution_count": 5,
   "id": "68709d88-5ee9-488a-bfbb-e5ebfcfccb24",
   "metadata": {},
   "outputs": [],
   "source": [
    "def custom_standardization(input_data):\n",
    "    import preprocessor as p\n",
    "    processed_data = p.clean(input_data)\n",
    "    lowercase_value = processed_data.lower()\n",
    "    return lowercase_value"
   ]
  },
  {
   "cell_type": "code",
   "execution_count": 6,
   "id": "6f5e1a9e-ddcd-4022-8fb3-9f51d2bef8b5",
   "metadata": {},
   "outputs": [
    {
     "name": "stdout",
     "output_type": "stream",
     "text": [
      "1578614\n"
     ]
    },
    {
     "data": {
      "text/html": [
       "<div>\n",
       "<style scoped>\n",
       "    .dataframe tbody tr th:only-of-type {\n",
       "        vertical-align: middle;\n",
       "    }\n",
       "\n",
       "    .dataframe tbody tr th {\n",
       "        vertical-align: top;\n",
       "    }\n",
       "\n",
       "    .dataframe thead th {\n",
       "        text-align: right;\n",
       "    }\n",
       "</style>\n",
       "<table border=\"1\" class=\"dataframe\">\n",
       "  <thead>\n",
       "    <tr style=\"text-align: right;\">\n",
       "      <th></th>\n",
       "      <th>target</th>\n",
       "      <th>text</th>\n",
       "    </tr>\n",
       "  </thead>\n",
       "  <tbody>\n",
       "    <tr>\n",
       "      <th>0</th>\n",
       "      <td>1</td>\n",
       "      <td>is so sad for my APL frie...</td>\n",
       "    </tr>\n",
       "    <tr>\n",
       "      <th>1</th>\n",
       "      <td>1</td>\n",
       "      <td>I missed the New Moon trail...</td>\n",
       "    </tr>\n",
       "    <tr>\n",
       "      <th>2</th>\n",
       "      <td>0</td>\n",
       "      <td>omg its already 7:30 :O</td>\n",
       "    </tr>\n",
       "    <tr>\n",
       "      <th>3</th>\n",
       "      <td>1</td>\n",
       "      <td>.. Omgaga. Im sooo  im gunna CRy. I'...</td>\n",
       "    </tr>\n",
       "    <tr>\n",
       "      <th>4</th>\n",
       "      <td>1</td>\n",
       "      <td>i think mi bf is cheating on me!!!   ...</td>\n",
       "    </tr>\n",
       "  </tbody>\n",
       "</table>\n",
       "</div>"
      ],
      "text/plain": [
       "   target                                               text\n",
       "0       1                       is so sad for my APL frie...\n",
       "1       1                     I missed the New Moon trail...\n",
       "2       0                            omg its already 7:30 :O\n",
       "3       1            .. Omgaga. Im sooo  im gunna CRy. I'...\n",
       "4       1           i think mi bf is cheating on me!!!   ..."
      ]
     },
     "execution_count": 6,
     "metadata": {},
     "output_type": "execute_result"
    }
   ],
   "source": [
    "test = pd.read_csv('Dataset/Twitter/test.csv', encoding = \"ISO-8859-1\", usecols = [\"Sentiment\",\"SentimentText\"]).rename(columns = {'Sentiment': 'target', 'SentimentText': 'text'})\n",
    "test['target'] = np.where(test['target']==1, 0, 1)\n",
    "print(len(test))\n",
    "test.head()"
   ]
  },
  {
   "cell_type": "code",
   "execution_count": 7,
   "id": "48339d72-c60f-41d6-bcce-e55a747adf3b",
   "metadata": {},
   "outputs": [],
   "source": [
    "test1 = test #[789000:-789000]"
   ]
  },
  {
   "cell_type": "code",
   "execution_count": 8,
   "id": "8498de37-bbaf-44e9-ad0a-019a26814339",
   "metadata": {},
   "outputs": [
    {
     "data": {
      "text/plain": [
       "0    790178\n",
       "1    788436\n",
       "Name: target, dtype: int64"
      ]
     },
     "execution_count": 8,
     "metadata": {},
     "output_type": "execute_result"
    }
   ],
   "source": [
    "test1['target'].value_counts()"
   ]
  },
  {
   "cell_type": "code",
   "execution_count": 9,
   "id": "f8b57bb3-b370-49e9-a1e2-91cbc398f849",
   "metadata": {},
   "outputs": [
    {
     "name": "stdout",
     "output_type": "stream",
     "text": [
      "INFO: Pandarallel will run on 14 workers.\n",
      "INFO: Pandarallel will use standard multiprocessing data transfer (pipe) to transfer data between the main process and workers.\n",
      "\n",
      "WARNING: You are on Windows. If you detect any issue with pandarallel, be sure you checked out the Troubleshooting page:\n",
      "https://nalepae.github.io/pandarallel/troubleshooting/\n"
     ]
    }
   ],
   "source": [
    "from pandarallel import pandarallel\n",
    "pandarallel.initialize(progress_bar=True)"
   ]
  },
  {
   "cell_type": "code",
   "execution_count": 10,
   "id": "26c65566-d9d1-4417-94e4-70557686409c",
   "metadata": {},
   "outputs": [],
   "source": [
    "def custom_standardization(input_data):\n",
    "    import preprocessor as p\n",
    "    processed_data = p.clean(input_data)\n",
    "    lowercase_value = processed_data.lower()\n",
    "    return lowercase_value"
   ]
  },
  {
   "cell_type": "code",
   "execution_count": 11,
   "id": "710361b4-80ef-4002-86fa-57d3bcc15406",
   "metadata": {},
   "outputs": [
    {
     "data": {
      "application/vnd.jupyter.widget-view+json": {
       "model_id": "812e539f7a144bb4a6ab8031efefde6f",
       "version_major": 2,
       "version_minor": 0
      },
      "text/plain": [
       "VBox(children=(HBox(children=(IntProgress(value=0, description='0.00%', max=112759), Label(value='0 / 112759')…"
      ]
     },
     "metadata": {},
     "output_type": "display_data"
    }
   ],
   "source": [
    "test1[\"text\"] = test1[\"text\"].parallel_apply(custom_standardization)"
   ]
  },
  {
   "cell_type": "code",
   "execution_count": 12,
   "id": "4bc5c847-02f6-45f4-a54d-04dc81f3c9f3",
   "metadata": {},
   "outputs": [],
   "source": [
    "# test1['text'] = test1['text'].apply(custom_standardization)"
   ]
  },
  {
   "cell_type": "code",
   "execution_count": 13,
   "id": "7922b96b-a84a-4c4a-b99b-fffbc3bf1286",
   "metadata": {},
   "outputs": [
    {
     "data": {
      "application/vnd.jupyter.widget-view+json": {
       "model_id": "8e5875bc668342169b50c918a4cf4598",
       "version_major": 2,
       "version_minor": 0
      },
      "text/plain": [
       "  0%|          | 0/1578614 [00:00<?, ?it/s]"
      ]
     },
     "metadata": {},
     "output_type": "display_data"
    },
    {
     "data": {
      "application/vnd.jupyter.widget-view+json": {
       "model_id": "2203350a4ec8475480ec166c73b7fd7b",
       "version_major": 2,
       "version_minor": 0
      },
      "text/plain": [
       "  0%|          | 0/24666 [00:00<?, ?it/s]"
      ]
     },
     "metadata": {},
     "output_type": "display_data"
    },
    {
     "name": "stdout",
     "output_type": "stream",
     "text": [
      "Test Accuracy:  0.916\n"
     ]
    }
   ],
   "source": [
    "res = evaluate(model, test1)"
   ]
  },
  {
   "cell_type": "code",
   "execution_count": 14,
   "id": "7226af12-56e6-482c-bf4d-3c3088559beb",
   "metadata": {},
   "outputs": [],
   "source": [
    "final = []\n",
    "for i in res:\n",
    "    for j in i:\n",
    "        final.append(j.item())"
   ]
  },
  {
   "cell_type": "code",
   "execution_count": 15,
   "id": "36bf410e-853c-4fe4-928a-115574c5330f",
   "metadata": {},
   "outputs": [],
   "source": [
    "# pd.DataFrame(final).to_csv('model_output.csv', index = False)"
   ]
  },
  {
   "cell_type": "code",
   "execution_count": 16,
   "id": "28267fae-f66a-4023-ad06-641dc4277116",
   "metadata": {},
   "outputs": [],
   "source": [
    "y_pred = pd.read_csv('model_output.csv')"
   ]
  },
  {
   "cell_type": "code",
   "execution_count": 17,
   "id": "984a3124-b417-4e4e-a3f2-dff88a875d13",
   "metadata": {},
   "outputs": [
    {
     "data": {
      "text/html": [
       "<div>\n",
       "<style scoped>\n",
       "    .dataframe tbody tr th:only-of-type {\n",
       "        vertical-align: middle;\n",
       "    }\n",
       "\n",
       "    .dataframe tbody tr th {\n",
       "        vertical-align: top;\n",
       "    }\n",
       "\n",
       "    .dataframe thead th {\n",
       "        text-align: right;\n",
       "    }\n",
       "</style>\n",
       "<table border=\"1\" class=\"dataframe\">\n",
       "  <thead>\n",
       "    <tr style=\"text-align: right;\">\n",
       "      <th></th>\n",
       "      <th>0</th>\n",
       "    </tr>\n",
       "  </thead>\n",
       "  <tbody>\n",
       "    <tr>\n",
       "      <th>0</th>\n",
       "      <td>1</td>\n",
       "    </tr>\n",
       "    <tr>\n",
       "      <th>1</th>\n",
       "      <td>1</td>\n",
       "    </tr>\n",
       "    <tr>\n",
       "      <th>2</th>\n",
       "      <td>1</td>\n",
       "    </tr>\n",
       "    <tr>\n",
       "      <th>3</th>\n",
       "      <td>1</td>\n",
       "    </tr>\n",
       "    <tr>\n",
       "      <th>4</th>\n",
       "      <td>1</td>\n",
       "    </tr>\n",
       "  </tbody>\n",
       "</table>\n",
       "</div>"
      ],
      "text/plain": [
       "   0\n",
       "0  1\n",
       "1  1\n",
       "2  1\n",
       "3  1\n",
       "4  1"
      ]
     },
     "execution_count": 17,
     "metadata": {},
     "output_type": "execute_result"
    }
   ],
   "source": [
    "y_pred.head()"
   ]
  },
  {
   "cell_type": "code",
   "execution_count": 19,
   "id": "677527b0-0a65-4455-a938-a5a700094594",
   "metadata": {},
   "outputs": [],
   "source": [
    "y_test = test1['target']"
   ]
  },
  {
   "cell_type": "code",
   "execution_count": 25,
   "id": "8def97db-6adc-4960-821b-ebf5882b8984",
   "metadata": {},
   "outputs": [],
   "source": [
    "from sklearn.metrics import classification_report, confusion_matrix"
   ]
  },
  {
   "cell_type": "code",
   "execution_count": 35,
   "id": "2cd6ef6c-3655-4822-bb3d-ee5f4af0bfc1",
   "metadata": {},
   "outputs": [
    {
     "name": "stdout",
     "output_type": "stream",
     "text": [
      "              precision    recall  f1-score   support\n",
      "\n",
      "Non-Suicidal     0.9212    0.9105    0.9158    790178\n",
      "    Suicidal     0.9114    0.9220    0.9166    788436\n",
      "\n",
      "    accuracy                         0.9162   1578614\n",
      "   macro avg     0.9163    0.9162    0.9162   1578614\n",
      "weighted avg     0.9163    0.9162    0.9162   1578614\n",
      "\n"
     ]
    }
   ],
   "source": [
    "print(classification_report(y_test, y_pred, digits = 4, target_names = ['Non-Suicidal', 'Suicidal']))"
   ]
  },
  {
   "cell_type": "code",
   "execution_count": null,
   "id": "4b036a1c-7bf7-4395-b1f5-2c2e63b72d88",
   "metadata": {},
   "outputs": [],
   "source": []
  }
 ],
 "metadata": {
  "kernelspec": {
   "display_name": "Python 3 (ipykernel)",
   "language": "python",
   "name": "python3"
  },
  "language_info": {
   "codemirror_mode": {
    "name": "ipython",
    "version": 3
   },
   "file_extension": ".py",
   "mimetype": "text/x-python",
   "name": "python",
   "nbconvert_exporter": "python",
   "pygments_lexer": "ipython3",
   "version": "3.10.6"
  }
 },
 "nbformat": 4,
 "nbformat_minor": 5
}
