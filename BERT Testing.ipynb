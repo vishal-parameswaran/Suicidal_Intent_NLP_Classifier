{
 "cells": [
  {
   "cell_type": "code",
   "execution_count": 4,
   "id": "e16a9f53-1322-419c-a529-ef2cbe31cd9d",
   "metadata": {},
   "outputs": [],
   "source": [
    "from torch import nn\n",
    "from transformers import BertConfig, BertModel\n",
    "\n",
    "class BertClassifier(nn.Module):\n",
    "\n",
    "    def __init__(self, dropout=0.1):\n",
    "        \n",
    "        super(BertClassifier, self).__init__()\n",
    "        \n",
    "        self.bert = AutoModel.from_pretrained(\"paulagarciaserrano/roberta-depression-detection\")\n",
    "        self.dropout = nn.Dropout(dropout)\n",
    "        self.linear = nn.Linear(768, 192)\n",
    "        self.linear1 = nn.Linear(192, 64)\n",
    "        self.linear2 = nn.Linear(64, 2)\n",
    "        self.gelu = nn.GELU()\n",
    "        self.sigmoid = nn.Sigmoid()\n",
    "\n",
    "    def forward(self, input_id, mask):\n",
    "        _, pooled_output = self.bert(input_ids= input_id,attention_mask=mask,return_dict=False)\n",
    "        dropout_output = self.dropout(pooled_output)\n",
    "        \n",
    "        # Adding a new hidden layer to the output of BERT model\n",
    "        linear_output1 = self.linear(dropout_output)\n",
    "        linear_output1 = self.gelu(linear_output1)\n",
    "        linear_output1 = self.dropout(linear_output1)\n",
    "        \n",
    "        # Adding a new hidden layer to the output of BERT model\n",
    "        linear_output2 = self.linear1(linear_output1)\n",
    "        linear_output2 = self.gelu(linear_output2)\n",
    "        linear_output2 = self.dropout(linear_output2)\n",
    "        \n",
    "        # Adding the sigmoid layer for the model output\n",
    "        linear_output3 = self.linear2(linear_output2)\n",
    "        final_layer = self.sigmoid(linear_output3)\n",
    "        \n",
    "        return final_layer"
   ]
  },
  {
   "cell_type": "code",
   "execution_count": 5,
   "id": "b783d9b9-d000-43e4-8d4c-0df4dd903204",
   "metadata": {},
   "outputs": [],
   "source": [
    "import torch\n",
    "from torch import nn\n",
    "from transformers import BertConfig, BertModel\n",
    "model = torch.load('model_BERT_Trained.pkl')"
   ]
  },
  {
   "cell_type": "code",
   "execution_count": 18,
   "id": "f9c8d429-1154-4df0-8890-ee2e228ddd77",
   "metadata": {},
   "outputs": [],
   "source": [
    "import torch\n",
    "import numpy as np\n",
    "from transformers import BertTokenizer\n",
    "from transformers import AutoTokenizer, AutoModel\n",
    "from tqdm.notebook import tqdm\n",
    "\n",
    "\n",
    "# We're using a base model for re-training with the base model trained on depression dataset\n",
    "tokenizer = AutoTokenizer.from_pretrained(\"paulagarciaserrano/roberta-depression-detection\")\n",
    "\n",
    "labels = {0: 0, 1: 1}\n",
    "\n",
    "class Dataset(torch.utils.data.Dataset):\n",
    "\n",
    "    def __init__(self, df):\n",
    "\n",
    "        self.labels = [labels[label] for label in df['target']]\n",
    "        \n",
    "        # Setting the parameters for the BERT tokenizer with max lenght = 64 and converting them to pytorch tensors\n",
    "        self.texts = [tokenizer(text, \n",
    "                               padding='max_length', max_length = 64, truncation=True,\n",
    "                                return_tensors=\"pt\") for text in tqdm(df['text'])]\n",
    "        \n",
    "    def get_batch_labels(self, idx):\n",
    "        # Fetch a batch of labels\n",
    "        return np.array(self.labels[idx])\n",
    "\n",
    "    def get_batch_texts(self, idx):\n",
    "        # Fetch a batch of inputs\n",
    "        return self.texts[idx]\n",
    "\n",
    "    def classes(self):\n",
    "        return self.labels\n",
    "\n",
    "    def __len__(self):\n",
    "        return len(self.labels)\n",
    "\n",
    "    def __getitem__(self, idx):\n",
    "\n",
    "        batch_texts = self.get_batch_texts(idx)\n",
    "        batch_y = self.get_batch_labels(idx)\n",
    "\n",
    "        return batch_texts, batch_y"
   ]
  },
  {
   "cell_type": "code",
   "execution_count": 19,
   "id": "d1dc08df-7ea9-4f6e-9111-a067d0889690",
   "metadata": {},
   "outputs": [],
   "source": [
    "def evaluate(model, test_data):\n",
    "    \n",
    "    test = Dataset(test_data)\n",
    "    test_dataloader = torch.utils.data.DataLoader(test, batch_size = 64)\n",
    "\n",
    "    use_cuda = torch.cuda.is_available()\n",
    "    device = torch.device(\"cuda\" if use_cuda else \"cpu\")\n",
    "\n",
    "    if use_cuda:\n",
    "        model = model.cuda()\n",
    "\n",
    "    res = []\n",
    "    total_acc_test = 0\n",
    "    with torch.no_grad():\n",
    "        count = 0\n",
    "        for test_input, test_label in tqdm(test_dataloader):\n",
    "            \n",
    "            test_label = test_label.to(device)\n",
    "            mask = test_input['attention_mask'].to(device)\n",
    "            input_id = test_input['input_ids'].squeeze(1).to(device)\n",
    "\n",
    "            output = model(input_id, mask)\n",
    "            res.append(output.argmax(dim=1))\n",
    "\n",
    "            acc = (output.argmax(dim=1) == test_label).sum().item()\n",
    "            total_acc_test += acc\n",
    "    \n",
    "    print(f'Test Accuracy: {total_acc_test / len(test_data): .3f}')\n",
    "    return res"
   ]
  },
  {
   "cell_type": "code",
   "execution_count": 20,
   "id": "68709d88-5ee9-488a-bfbb-e5ebfcfccb24",
   "metadata": {},
   "outputs": [],
   "source": [
    "def custom_standardization(input_data):\n",
    "    import preprocessor as p\n",
    "    processed_data = p.clean(input_data)\n",
    "    lowercase_value = processed_data.lower()\n",
    "    return lowercase_value"
   ]
  },
  {
   "cell_type": "code",
   "execution_count": 24,
   "id": "3554b750-715b-41ec-bacd-121e8e1f0fbc",
   "metadata": {},
   "outputs": [],
   "source": [
    "import pandas as pd\n",
    "test_data = pd.DataFrame([['I want to kill myself', 1], ['its not gonna be awesome', 1]], columns = ['text', 'target'])"
   ]
  },
  {
   "cell_type": "code",
   "execution_count": 25,
   "id": "4bc5c847-02f6-45f4-a54d-04dc81f3c9f3",
   "metadata": {},
   "outputs": [],
   "source": [
    "test_data['text'] = test_data['text'].apply(custom_standardization)"
   ]
  },
  {
   "cell_type": "code",
   "execution_count": 26,
   "id": "7922b96b-a84a-4c4a-b99b-fffbc3bf1286",
   "metadata": {},
   "outputs": [
    {
     "data": {
      "application/vnd.jupyter.widget-view+json": {
       "model_id": "494755d4230a46178b9af759a3131cdf",
       "version_major": 2,
       "version_minor": 0
      },
      "text/plain": [
       "  0%|          | 0/2 [00:00<?, ?it/s]"
      ]
     },
     "metadata": {},
     "output_type": "display_data"
    },
    {
     "data": {
      "application/vnd.jupyter.widget-view+json": {
       "model_id": "98a9030ab1764ac880093f0265d16937",
       "version_major": 2,
       "version_minor": 0
      },
      "text/plain": [
       "  0%|          | 0/1 [00:00<?, ?it/s]"
      ]
     },
     "metadata": {},
     "output_type": "display_data"
    },
    {
     "name": "stdout",
     "output_type": "stream",
     "text": [
      "Test Accuracy:  1.000\n"
     ]
    }
   ],
   "source": [
    "res = evaluate(model, test_data)"
   ]
  },
  {
   "cell_type": "code",
   "execution_count": null,
   "id": "e0c7549a-0f53-4491-8e6f-d0a94fa5527e",
   "metadata": {},
   "outputs": [],
   "source": []
  }
 ],
 "metadata": {
  "kernelspec": {
   "display_name": "Python 3 (ipykernel)",
   "language": "python",
   "name": "python3"
  },
  "language_info": {
   "codemirror_mode": {
    "name": "ipython",
    "version": 3
   },
   "file_extension": ".py",
   "mimetype": "text/x-python",
   "name": "python",
   "nbconvert_exporter": "python",
   "pygments_lexer": "ipython3",
   "version": "3.10.6"
  }
 },
 "nbformat": 4,
 "nbformat_minor": 5
}
